{
 "cells": [
  {
   "cell_type": "code",
   "execution_count": 1,
   "id": "2d82110f-1ff0-4f7d-b591-0978a237c25e",
   "metadata": {},
   "outputs": [],
   "source": [
    "from datetime import datetime\n",
    "\n",
    "from pymongo import MongoClient\n",
    "from pprint import pprint"
   ]
  },
  {
   "cell_type": "code",
   "execution_count": 2,
   "id": "2d292afa-3d72-4e83-91fb-874db9520745",
   "metadata": {},
   "outputs": [],
   "source": [
    "client = MongoClient(port=27017)"
   ]
  },
  {
   "cell_type": "code",
   "execution_count": 3,
   "id": "97f9fc7b-1f0e-43b9-ab3a-6e433adb7c1e",
   "metadata": {},
   "outputs": [
    {
     "data": {
      "text/plain": [
       "MongoClient(host=['localhost:27017'], document_class=dict, tz_aware=False, connect=True)"
      ]
     },
     "execution_count": 3,
     "metadata": {},
     "output_type": "execute_result"
    }
   ],
   "source": [
    "client"
   ]
  },
  {
   "cell_type": "code",
   "execution_count": 4,
   "id": "c595e0aa-2bc5-4326-98fe-74541d57b6b4",
   "metadata": {},
   "outputs": [],
   "source": [
    "students_db = client.students"
   ]
  },
  {
   "cell_type": "code",
   "execution_count": 5,
   "id": "3e23c991-adc3-47d0-93dd-d0d746a08d5c",
   "metadata": {},
   "outputs": [
    {
     "data": {
      "text/plain": [
       "Database(MongoClient(host=['localhost:27017'], document_class=dict, tz_aware=False, connect=True), 'students')"
      ]
     },
     "execution_count": 5,
     "metadata": {},
     "output_type": "execute_result"
    }
   ],
   "source": [
    "students_db"
   ]
  },
  {
   "cell_type": "code",
   "execution_count": 6,
   "id": "ea2460a8-476d-4892-8d0c-6447746acd62",
   "metadata": {},
   "outputs": [],
   "source": [
    "student_scores = students_db.studentscores"
   ]
  },
  {
   "cell_type": "code",
   "execution_count": 7,
   "id": "a7c3922d-e8b1-4baa-a38d-ec63526485cc",
   "metadata": {},
   "outputs": [
    {
     "data": {
      "text/plain": [
       "Collection(Database(MongoClient(host=['localhost:27017'], document_class=dict, tz_aware=False, connect=True), 'students'), 'studentscores')"
      ]
     },
     "execution_count": 7,
     "metadata": {},
     "output_type": "execute_result"
    }
   ],
   "source": [
    "student_scores"
   ]
  },
  {
   "cell_type": "code",
   "execution_count": 8,
   "id": "99860297-871e-41ae-b562-a774c3777c22",
   "metadata": {},
   "outputs": [
    {
     "data": {
      "text/plain": [
       "InsertManyResult([ObjectId('681f0caff1fea12ff47d1c76'), ObjectId('681f0caff1fea12ff47d1c77'), ObjectId('681f0caff1fea12ff47d1c78'), ObjectId('681f0caff1fea12ff47d1c79'), ObjectId('681f0caff1fea12ff47d1c7a'), ObjectId('681f0caff1fea12ff47d1c7b')], acknowledged=True)"
      ]
     },
     "execution_count": 8,
     "metadata": {},
     "output_type": "execute_result"
    }
   ],
   "source": [
    "data = [\n",
    "  {\n",
    "    \"user\": \"Krish\",\n",
    "    \"subject\": \"Database\",\n",
    "    \"score\": 80\n",
    "  },\n",
    "  {\n",
    "    \"user\": \"Amit\",\n",
    "    \"subject\": \"JavaScript\",\n",
    "    \"score\": 90\n",
    "  },\n",
    "  {\n",
    "    \"user\": \"Amit\",\n",
    "    \"title\": \"Database\",\n",
    "    \"score\": 85\n",
    "  },\n",
    "  {\n",
    "    \"user\": \"Krish\",\n",
    "    \"title\": \"JavaScript\",\n",
    "    \"score\": 75\n",
    "  },\n",
    "  {\n",
    "    \"user\": \"Amit\",\n",
    "    \"title\": \"Data Science\",\n",
    "    \"score\": 60\n",
    "  },\n",
    "  {\n",
    "    \"user\": \"Krish\",\n",
    "    \"title\": \"Data Science\",\n",
    "    \"score\": 95\n",
    "  }\n",
    "]\n",
    "student_scores.insert_many(data) "
   ]
  },
  {
   "cell_type": "markdown",
   "id": "1631b3d7-0eb8-459f-b3f5-a7a84f054cb4",
   "metadata": {},
   "source": [
    "## Group By"
   ]
  },
  {
   "cell_type": "markdown",
   "id": "cab984df-4162-49ca-8d14-7de0988220b6",
   "metadata": {},
   "source": [
    "To find how many subjects each student has taken up."
   ]
  },
  {
   "cell_type": "code",
   "execution_count": 9,
   "id": "1b0493ff-30fa-446e-ab7e-f3ac7367bb80",
   "metadata": {},
   "outputs": [],
   "source": [
    "total_subjects_by_student = student_scores.aggregate(\n",
    "    [{\n",
    "        \"$group\": {\n",
    "            \"_id\": \"$user\",\n",
    "            \"Total Subjects\": {\n",
    "                \"$sum\": 1\n",
    "            }\n",
    "        }\n",
    "    }]\n",
    ")"
   ]
  },
  {
   "cell_type": "code",
   "execution_count": 10,
   "id": "bc3cd40e-229c-4f7c-9e3e-f148e6437c32",
   "metadata": {},
   "outputs": [
    {
     "name": "stdout",
     "output_type": "stream",
     "text": [
      "{'Total Subjects': 3, '_id': 'Amit'}\n",
      "{'Total Subjects': 3, '_id': 'Krish'}\n"
     ]
    }
   ],
   "source": [
    "for record in total_subjects_by_student:\n",
    "    pprint(record)"
   ]
  },
  {
   "cell_type": "markdown",
   "id": "2ec6cd48-58e9-4755-863e-80a491aec3ed",
   "metadata": {},
   "source": [
    "To find the total score of students"
   ]
  },
  {
   "cell_type": "code",
   "execution_count": 11,
   "id": "5819e90e-d442-4d69-b571-d23bd6240b69",
   "metadata": {},
   "outputs": [],
   "source": [
    "total_marks_by_student = student_scores.aggregate(\n",
    "    [{\n",
    "        \"$group\": {\n",
    "            \"_id\": \"$user\",\n",
    "            \"Total score\": {\"$sum\": \"$score\"}\n",
    "        }\n",
    "    }]\n",
    ")"
   ]
  },
  {
   "cell_type": "code",
   "execution_count": 12,
   "id": "266bcb81-305a-43af-a7eb-24b218c31d93",
   "metadata": {},
   "outputs": [
    {
     "name": "stdout",
     "output_type": "stream",
     "text": [
      "{'Total score': 235, '_id': 'Amit'}\n",
      "{'Total score': 250, '_id': 'Krish'}\n"
     ]
    }
   ],
   "source": [
    "for record in total_marks_by_student:\n",
    "    pprint(record)"
   ]
  },
  {
   "cell_type": "markdown",
   "id": "856f0f42-2c3d-4b1e-9565-a267be7d1283",
   "metadata": {},
   "source": [
    "To find the average sccore of students"
   ]
  },
  {
   "cell_type": "code",
   "execution_count": 13,
   "id": "d4975eec-cf16-45c8-821b-b6a915b03669",
   "metadata": {},
   "outputs": [],
   "source": [
    "average_score_by_student = student_scores.aggregate(\n",
    "    [{\n",
    "        \"$group\": {\n",
    "            \"_id\": \"$user\",\n",
    "            \"Average score\": {\"$avg\": \"$score\"}\n",
    "        }\n",
    "    }]\n",
    ")"
   ]
  },
  {
   "cell_type": "code",
   "execution_count": 14,
   "id": "c5b7a6a9-555c-4247-a577-3c929d46f34e",
   "metadata": {},
   "outputs": [
    {
     "name": "stdout",
     "output_type": "stream",
     "text": [
      "{'Average score': 78.33333333333333, '_id': 'Amit'}\n",
      "{'Average score': 83.33333333333333, '_id': 'Krish'}\n"
     ]
    }
   ],
   "source": [
    "for record in average_score_by_student:\n",
    "    pprint(record)"
   ]
  },
  {
   "cell_type": "code",
   "execution_count": 15,
   "id": "0017d3cc-36ac-46d3-b0de-1602448c755d",
   "metadata": {},
   "outputs": [],
   "source": [
    "data = [\n",
    "    { \"_id\" : 1, \"item\" : \"abc\", \"price\" : 10, \"quantity\" : 2, \"date\" : datetime.utcnow()},\n",
    "    { \"_id\" : 2, \"item\" : \"jkl\", \"price\" : 20, \"quantity\" : 1, \"date\" : datetime.utcnow() },\n",
    "    { \"_id\" : 3, \"item\" : \"xyz\", \"price\" : 5, \"quantity\" : 5, \"date\" : datetime.utcnow() },\n",
    "    { \"_id\" : 4, \"item\" : \"abc\", \"price\" : 10, \"quantity\" : 10, \"date\" : datetime.utcnow() },\n",
    "    { \"_id\" : 5, \"item\" : \"xyz\", \"price\" : 5, \"quantity\" : 10, \"date\" : datetime.utcnow() }\n",
    "]"
   ]
  },
  {
   "cell_type": "code",
   "execution_count": 16,
   "id": "6689b84d-d6e6-462d-b662-048281fee849",
   "metadata": {},
   "outputs": [
    {
     "data": {
      "text/plain": [
       "[{'_id': 1,\n",
       "  'item': 'abc',\n",
       "  'price': 10,\n",
       "  'quantity': 2,\n",
       "  'date': datetime.datetime(2025, 5, 10, 8, 22, 8, 76139)},\n",
       " {'_id': 2,\n",
       "  'item': 'jkl',\n",
       "  'price': 20,\n",
       "  'quantity': 1,\n",
       "  'date': datetime.datetime(2025, 5, 10, 8, 22, 8, 76139)},\n",
       " {'_id': 3,\n",
       "  'item': 'xyz',\n",
       "  'price': 5,\n",
       "  'quantity': 5,\n",
       "  'date': datetime.datetime(2025, 5, 10, 8, 22, 8, 76139)},\n",
       " {'_id': 4,\n",
       "  'item': 'abc',\n",
       "  'price': 10,\n",
       "  'quantity': 10,\n",
       "  'date': datetime.datetime(2025, 5, 10, 8, 22, 8, 76139)},\n",
       " {'_id': 5,\n",
       "  'item': 'xyz',\n",
       "  'price': 5,\n",
       "  'quantity': 10,\n",
       "  'date': datetime.datetime(2025, 5, 10, 8, 22, 8, 76139)}]"
      ]
     },
     "execution_count": 16,
     "metadata": {},
     "output_type": "execute_result"
    }
   ],
   "source": [
    "data"
   ]
  },
  {
   "cell_type": "code",
   "execution_count": 17,
   "id": "c836b11c-bc0f-4652-a4bc-f7b4d425c9bf",
   "metadata": {},
   "outputs": [],
   "source": [
    "store_db = client.store"
   ]
  },
  {
   "cell_type": "code",
   "execution_count": 18,
   "id": "48c1034c-299f-4948-8ad7-f14151c1bb6a",
   "metadata": {},
   "outputs": [],
   "source": [
    "stores_collection = store_db.stores"
   ]
  },
  {
   "cell_type": "code",
   "execution_count": 19,
   "id": "6e90acaa-21c2-47b0-9964-7adc3102d6ad",
   "metadata": {},
   "outputs": [
    {
     "data": {
      "text/plain": [
       "InsertManyResult([1, 2, 3, 4, 5], acknowledged=True)"
      ]
     },
     "execution_count": 19,
     "metadata": {},
     "output_type": "execute_result"
    }
   ],
   "source": [
    "stores_collection.insert_many(data)"
   ]
  },
  {
   "cell_type": "markdown",
   "id": "74dce78a-b4bc-4952-92db-b0c3e6587046",
   "metadata": {},
   "source": [
    "To calculate total average price"
   ]
  },
  {
   "cell_type": "code",
   "execution_count": 20,
   "id": "26139b46-1183-41bd-b62e-4693b08ba82a",
   "metadata": {},
   "outputs": [],
   "source": [
    "average_quantity_and_price = stores_collection.aggregate(\n",
    "    [{\n",
    "        \"$group\": {\n",
    "            \"_id\": \"$item\",\n",
    "            \"Total average Price\": {\"$avg\": {\"$multiply\": ['$price', '$quantity']}},\n",
    "            \"Average quantity\": {\"$avg\": \"$quantity\"}\n",
    "        }\n",
    "    }]\n",
    ")"
   ]
  },
  {
   "cell_type": "code",
   "execution_count": 21,
   "id": "309cad61-2226-4d79-b1d6-148eeba2dfed",
   "metadata": {},
   "outputs": [
    {
     "name": "stdout",
     "output_type": "stream",
     "text": [
      "{'Average quantity': 1.0, 'Total average Price': 20.0, '_id': 'jkl'}\n",
      "{'Average quantity': 7.5, 'Total average Price': 37.5, '_id': 'xyz'}\n",
      "{'Average quantity': 6.0, 'Total average Price': 60.0, '_id': 'abc'}\n"
     ]
    }
   ],
   "source": [
    "for record in average_quantity_and_price:\n",
    "    pprint(record)"
   ]
  },
  {
   "cell_type": "code",
   "execution_count": null,
   "id": "e09888b2-0ec5-4ce0-8b10-d898da9504b6",
   "metadata": {},
   "outputs": [],
   "source": []
  }
 ],
 "metadata": {
  "kernelspec": {
   "display_name": "Python 3 (ipykernel)",
   "language": "python",
   "name": "python3"
  },
  "language_info": {
   "codemirror_mode": {
    "name": "ipython",
    "version": 3
   },
   "file_extension": ".py",
   "mimetype": "text/x-python",
   "name": "python",
   "nbconvert_exporter": "python",
   "pygments_lexer": "ipython3",
   "version": "3.11.7"
  }
 },
 "nbformat": 4,
 "nbformat_minor": 5
}
