{
 "cells": [
  {
   "cell_type": "code",
   "execution_count": 1,
   "id": "343cb682-037c-4eba-8df8-9430ee926b27",
   "metadata": {},
   "outputs": [],
   "source": [
    "from pymongo import MongoClient\n",
    "from pprint import pprint"
   ]
  },
  {
   "cell_type": "code",
   "execution_count": 2,
   "id": "06ac8a98-55d3-492d-8fbc-dda7c66e300c",
   "metadata": {},
   "outputs": [],
   "source": [
    "client = MongoClient(port=27017)"
   ]
  },
  {
   "cell_type": "code",
   "execution_count": 3,
   "id": "a1bb3ea6-235d-42bc-b84f-4438c8501e25",
   "metadata": {},
   "outputs": [
    {
     "data": {
      "text/plain": [
       "MongoClient(host=['localhost:27017'], document_class=dict, tz_aware=False, connect=True)"
      ]
     },
     "execution_count": 3,
     "metadata": {},
     "output_type": "execute_result"
    }
   ],
   "source": [
    "client"
   ]
  },
  {
   "cell_type": "code",
   "execution_count": 4,
   "id": "c6243ba1-02c2-47e2-84b5-b771eda16897",
   "metadata": {},
   "outputs": [
    {
     "data": {
      "text/plain": [
       "['admin',\n",
       " 'assignment',\n",
       " 'config',\n",
       " 'local',\n",
       " 'march2022',\n",
       " 'movielens',\n",
       " 'pes',\n",
       " 'salesdb',\n",
       " 'store']"
      ]
     },
     "execution_count": 4,
     "metadata": {},
     "output_type": "execute_result"
    }
   ],
   "source": [
    "client.list_database_names()"
   ]
  },
  {
   "cell_type": "code",
   "execution_count": 5,
   "id": "69301d0b-d207-4fe4-8d1a-1592d5ce7a42",
   "metadata": {},
   "outputs": [],
   "source": [
    "march2022_db = client.march2022"
   ]
  },
  {
   "cell_type": "code",
   "execution_count": 6,
   "id": "c29a5594-4475-48b5-bc35-e6ac5eeadab2",
   "metadata": {},
   "outputs": [
    {
     "data": {
      "text/plain": [
       "Database(MongoClient(host=['localhost:27017'], document_class=dict, tz_aware=False, connect=True), 'march2022')"
      ]
     },
     "execution_count": 6,
     "metadata": {},
     "output_type": "execute_result"
    }
   ],
   "source": [
    "march2022_db"
   ]
  },
  {
   "cell_type": "code",
   "execution_count": 7,
   "id": "084f8d62-cef0-4e34-bcbb-2b52136d1693",
   "metadata": {},
   "outputs": [],
   "source": [
    "orders_collection = march2022_db.orders"
   ]
  },
  {
   "cell_type": "code",
   "execution_count": 8,
   "id": "38a5150e-5d7a-4bb1-b7c0-00f2de440ddc",
   "metadata": {},
   "outputs": [
    {
     "data": {
      "text/plain": [
       "Collection(Database(MongoClient(host=['localhost:27017'], document_class=dict, tz_aware=False, connect=True), 'march2022'), 'orders')"
      ]
     },
     "execution_count": 8,
     "metadata": {},
     "output_type": "execute_result"
    }
   ],
   "source": [
    "orders_collection"
   ]
  },
  {
   "cell_type": "markdown",
   "id": "d0a09aae-4f9f-425a-b9fd-5a1fced6d519",
   "metadata": {},
   "source": [
    "### Insert records \n",
    "###### Ignore after first iteration to avoid duplicate entries since MongoDB allows complete duplicates other than _id"
   ]
  },
  {
   "cell_type": "code",
   "execution_count": 9,
   "id": "cb89de26-ca73-44ff-bef1-c2c6954dc0fc",
   "metadata": {},
   "outputs": [],
   "source": [
    "# orders_collection.insert_many([\n",
    "#     {\n",
    "#         \"order_id\": 1,\n",
    "#         \"order_date\": \"2013-07-25 00:00:00\",\n",
    "#         \"order_customer_id\": 11599,\n",
    "#         \"order_status\": \"CLOSED\"\n",
    "#     },\n",
    "#     {\n",
    "#         \"order_id\": 2,\n",
    "#         \"order_date\": \"2013-07-26 00:00:00\",\n",
    "#         \"order_customer_id\": 25673,\n",
    "#         \"order_status\": \"COMPLETED\"\n",
    "#     },\n",
    "#     {\n",
    "#         \"order_id\": 3,\n",
    "#         \"order_date\": \"2013-07-27 00:00:00\",\n",
    "#         \"order_customer_id\": 17845,\n",
    "#         \"order_status\": \"ON-HOLD\"\n",
    "#     },\n",
    "#     {\n",
    "#         \"order_id\": 4,\n",
    "#         \"order_date\": \"2013-07-28 00:00:00\",\n",
    "#         \"order_customer_id\": 11599,\n",
    "#         \"order_status\": \"PROCESSING\"\n",
    "#     },\n",
    "#     {\n",
    "#         \"order_id\": 5,\n",
    "#         \"order_date\": \"2013-07-29 00:00:00\",\n",
    "#         \"order_customer_id\": 30012,\n",
    "#         \"order_status\": \"PENDING\"\n",
    "#     },\n",
    "#     {\n",
    "#         \"order_id\": 6,\n",
    "#         \"order_date\": \"2013-07-30 00:00:00\",\n",
    "#         \"order_customer_id\": 20456,\n",
    "#         \"order_status\": \"CLOSED\"\n",
    "#     },\n",
    "#     {\n",
    "#         \"order_id\": 7,\n",
    "#         \"order_date\": \"2013-07-31 00:00:00\",\n",
    "#         \"order_customer_id\": 17845,\n",
    "#         \"order_status\": \"CANCELLED\"\n",
    "#     },\n",
    "#     {\n",
    "#         \"order_id\": 8,\n",
    "#         \"order_date\": \"2013-08-01 00:00:00\",\n",
    "#         \"order_customer_id\": 15678,\n",
    "#         \"order_status\": \"COMPLETED\"\n",
    "#     },\n",
    "#     {\n",
    "#         \"order_id\": 9,\n",
    "#         \"order_date\": \"2013-08-02 00:00:00\",\n",
    "#         \"order_customer_id\": 11599,\n",
    "#         \"order_status\": \"CLOSED\"\n",
    "#     },\n",
    "#     {\n",
    "#         \"order_id\": 10,\n",
    "#         \"order_date\": \"2013-08-03 00:00:00\",\n",
    "#         \"order_customer_id\": 22334,\n",
    "#         \"order_status\": \"PROCESSING\"\n",
    "#     },\n",
    "#     {\n",
    "#         \"order_id\": 11,\n",
    "#         \"order_date\": \"2013-08-04 00:00:00\",\n",
    "#         \"order_customer_id\": 18990,\n",
    "#         \"order_status\": \"COMPLETED\"\n",
    "#     },\n",
    "#     {\n",
    "#         \"order_id\": 12,\n",
    "#         \"order_date\": \"2013-08-05 00:00:00\",\n",
    "#         \"order_customer_id\": 25673,\n",
    "#         \"order_status\": \"CLOSED\"\n",
    "#     },\n",
    "#     {\n",
    "#         \"order_id\": 13,\n",
    "#         \"order_date\": \"2013-08-06 00:00:00\",\n",
    "#         \"order_customer_id\": 14567,\n",
    "#         \"order_status\": \"OPEN\"\n",
    "#     },\n",
    "#     {\n",
    "#         \"order_id\": 14,\n",
    "#         \"order_date\": \"2013-08-07 00:00:00\",\n",
    "#         \"order_customer_id\": 17845,\n",
    "#         \"order_status\": \"ON-HOLD\"\n",
    "#     },\n",
    "#     {\n",
    "#         \"order_id\": 15,\n",
    "#         \"order_date\": \"2013-08-08 00:00:00\",\n",
    "#         \"order_customer_id\": 20456,\n",
    "#         \"order_status\": \"COMPLETED\"\n",
    "#     }\n",
    "# ])"
   ]
  },
  {
   "cell_type": "markdown",
   "id": "6370fc8b-30aa-41e9-8e97-90f5a1e8d8dd",
   "metadata": {},
   "source": [
    "### Get the documents where `order_status` is completed"
   ]
  },
  {
   "cell_type": "code",
   "execution_count": 10,
   "id": "bc7528b9-c44b-4883-a63b-b2a154ecd18d",
   "metadata": {},
   "outputs": [
    {
     "name": "stdout",
     "output_type": "stream",
     "text": [
      "{'_id': ObjectId('6842faf5787e7cc84c6ca6ca'), 'order_id': 2, 'order_date': '2013-07-26 00:00:00', 'order_customer_id': 25673, 'order_status': 'COMPLETED'}\n",
      "{'_id': ObjectId('6842faf5787e7cc84c6ca6d0'), 'order_id': 8, 'order_date': '2013-08-01 00:00:00', 'order_customer_id': 15678, 'order_status': 'COMPLETED'}\n",
      "{'_id': ObjectId('6842faf5787e7cc84c6ca6d3'), 'order_id': 11, 'order_date': '2013-08-04 00:00:00', 'order_customer_id': 18990, 'order_status': 'COMPLETED'}\n",
      "{'_id': ObjectId('6842faf5787e7cc84c6ca6d7'), 'order_id': 15, 'order_date': '2013-08-08 00:00:00', 'order_customer_id': 20456, 'order_status': 'COMPLETED'}\n"
     ]
    }
   ],
   "source": [
    "for item in orders_collection.find({\n",
    "    \"order_status\": \"COMPLETED\"\n",
    "}):\n",
    "    print(item)"
   ]
  },
  {
   "cell_type": "markdown",
   "id": "6f6bcdaa-21b5-47da-9638-61cfbb94085a",
   "metadata": {},
   "source": [
    "### Get the documents that have an `order_status` of either closed or completed"
   ]
  },
  {
   "cell_type": "code",
   "execution_count": 11,
   "id": "900f1aa9-22b4-40d7-9504-f17bfd965b17",
   "metadata": {},
   "outputs": [
    {
     "name": "stdout",
     "output_type": "stream",
     "text": [
      "{'_id': ObjectId('6842faf5787e7cc84c6ca6c9'), 'order_id': 1, 'order_date': '2013-07-25 00:00:00', 'order_customer_id': 11599, 'order_status': 'CLOSED'}\n",
      "{'_id': ObjectId('6842faf5787e7cc84c6ca6ca'), 'order_id': 2, 'order_date': '2013-07-26 00:00:00', 'order_customer_id': 25673, 'order_status': 'COMPLETED'}\n",
      "{'_id': ObjectId('6842faf5787e7cc84c6ca6ce'), 'order_id': 6, 'order_date': '2013-07-30 00:00:00', 'order_customer_id': 20456, 'order_status': 'CLOSED'}\n",
      "{'_id': ObjectId('6842faf5787e7cc84c6ca6d0'), 'order_id': 8, 'order_date': '2013-08-01 00:00:00', 'order_customer_id': 15678, 'order_status': 'COMPLETED'}\n",
      "{'_id': ObjectId('6842faf5787e7cc84c6ca6d1'), 'order_id': 9, 'order_date': '2013-08-02 00:00:00', 'order_customer_id': 11599, 'order_status': 'CLOSED'}\n",
      "{'_id': ObjectId('6842faf5787e7cc84c6ca6d3'), 'order_id': 11, 'order_date': '2013-08-04 00:00:00', 'order_customer_id': 18990, 'order_status': 'COMPLETED'}\n",
      "{'_id': ObjectId('6842faf5787e7cc84c6ca6d4'), 'order_id': 12, 'order_date': '2013-08-05 00:00:00', 'order_customer_id': 25673, 'order_status': 'CLOSED'}\n",
      "{'_id': ObjectId('6842faf5787e7cc84c6ca6d7'), 'order_id': 15, 'order_date': '2013-08-08 00:00:00', 'order_customer_id': 20456, 'order_status': 'COMPLETED'}\n"
     ]
    }
   ],
   "source": [
    "for item in orders_collection.find({\n",
    "    \"order_status\": {\n",
    "        \"$in\": [\"COMPLETED\", \"CLOSED\"]\n",
    "    }\n",
    "}):\n",
    "    print(item)"
   ]
  },
  {
   "cell_type": "markdown",
   "id": "b00a7e38-328e-41e0-bada-1e614c629744",
   "metadata": {},
   "source": [
    "### Get the count of records/documents that have an order status of either closed or completed"
   ]
  },
  {
   "cell_type": "code",
   "execution_count": 12,
   "id": "58dff9a3-88dc-48b8-88b7-0053721fffd7",
   "metadata": {},
   "outputs": [
    {
     "data": {
      "text/plain": [
       "8"
      ]
     },
     "execution_count": 12,
     "metadata": {},
     "output_type": "execute_result"
    }
   ],
   "source": [
    "orders_collection.count_documents({\n",
    "    \"order_status\": {\n",
    "        \"$in\": [\"COMPLETED\", \"CLOSED\"]\n",
    "    }\n",
    "})"
   ]
  },
  {
   "cell_type": "markdown",
   "id": "c2927501-02f8-4f76-9aef-65f15d516847",
   "metadata": {},
   "source": [
    "### Get the count of each grouped `order_status` in a sorted manner"
   ]
  },
  {
   "cell_type": "code",
   "execution_count": 13,
   "id": "ead54c61-ce3c-479c-ae13-1fdaac034c20",
   "metadata": {},
   "outputs": [
    {
     "name": "stdout",
     "output_type": "stream",
     "text": [
      "{'_id': 'CLOSED', 'count': 4}\n",
      "{'_id': 'COMPLETED', 'count': 4}\n",
      "{'_id': 'ON-HOLD', 'count': 2}\n",
      "{'_id': 'PROCESSING', 'count': 2}\n",
      "{'_id': 'OPEN', 'count': 1}\n",
      "{'_id': 'PENDING', 'count': 1}\n",
      "{'_id': 'CANCELLED', 'count': 1}\n"
     ]
    }
   ],
   "source": [
    "for item in orders_collection.aggregate([\n",
    "    {\n",
    "        \"$group\": {\n",
    "            \"_id\": \"$order_status\",\n",
    "            \"count\": {\n",
    "                \"$sum\": 1\n",
    "            }\n",
    "        }\n",
    "    },\n",
    "    {\n",
    "        \"$sort\": {\n",
    "            \"count\": -1\n",
    "        }\n",
    "    }\n",
    "]):\n",
    "    print(item)"
   ]
  },
  {
   "cell_type": "markdown",
   "id": "358f5b22-4d86-4928-866f-62ab35c1fb35",
   "metadata": {},
   "source": [
    "### When the `order_status` is COMPLETED, display the `order_customer_id` and count of the orders for said status"
   ]
  },
  {
   "cell_type": "code",
   "execution_count": 14,
   "id": "aebb6613-b248-4f5a-85f1-33e2dd10642c",
   "metadata": {},
   "outputs": [
    {
     "name": "stdout",
     "output_type": "stream",
     "text": [
      "{'count': 4, 'order_customer_id': [25673, 15678, 18990, 20456], 'order_status': 'COMPLETED'}\n"
     ]
    }
   ],
   "source": [
    "for item in orders_collection.aggregate([\n",
    "    {\n",
    "        \"$match\": {\n",
    "            \"order_status\": \"COMPLETED\"\n",
    "        }\n",
    "    },\n",
    "    {\n",
    "        \"$group\": {\n",
    "            \"_id\": \"$order_status\",\n",
    "            \"count\": { \"$sum\": 1 },\n",
    "            \"order_customer_id\": { \"$push\": \"$order_customer_id\" }\n",
    "        }\n",
    "    },\n",
    "    {\n",
    "        \"$project\": {\n",
    "            \"order_status\": \"$_id\",\n",
    "            \"_id\": 0,\n",
    "            \"count\": 1,\n",
    "            \"order_customer_id\": 2\n",
    "        }\n",
    "    }\n",
    "]):\n",
    "    print(item)"
   ]
  },
  {
   "cell_type": "markdown",
   "id": "dba9777f-a4f3-4857-a735-7dd9e67a78c6",
   "metadata": {},
   "source": [
    "### When the order status count > 3, show `order_id` and `order_customer_id`"
   ]
  },
  {
   "cell_type": "code",
   "execution_count": 15,
   "id": "b5483d11-10ef-41f4-918f-c1df440b23a3",
   "metadata": {},
   "outputs": [
    {
     "name": "stdout",
     "output_type": "stream",
     "text": [
      "{'count': 4,\n",
      " 'order_customer_ids': [11599, 20456, 11599, 25673],\n",
      " 'order_ids': [1, 6, 9, 12],\n",
      " 'order_status': 'CLOSED'}\n",
      "{'count': 4,\n",
      " 'order_customer_ids': [25673, 15678, 18990, 20456],\n",
      " 'order_ids': [2, 8, 11, 15],\n",
      " 'order_status': 'COMPLETED'}\n"
     ]
    }
   ],
   "source": [
    "for item in orders_collection.aggregate([\n",
    "    {\n",
    "        \"$group\": {\n",
    "            \"_id\": \"$order_status\",\n",
    "            \"count\": {\n",
    "                \"$sum\": 1\n",
    "            },\n",
    "            \"order_ids\": {\n",
    "                \"$push\": \"$order_id\"\n",
    "            },\n",
    "            \"order_customer_ids\": {\n",
    "                \"$push\": \"$order_customer_id\"\n",
    "            }\n",
    "        }\n",
    "    },\n",
    "    {\n",
    "        \"$match\": {\n",
    "            \"count\": {\n",
    "                \"$gt\": 3\n",
    "            }\n",
    "        }\n",
    "    },\n",
    "    {\n",
    "        \"$project\": {\n",
    "            \"order_status\": \"$_id\",\n",
    "            \"_id\": 0,\n",
    "            \"count\": 1,\n",
    "            \"order_ids\": 2,\n",
    "            \"order_customer_ids\": 3\n",
    "        }\n",
    "    }\n",
    "]):\n",
    "    pprint(item)"
   ]
  },
  {
   "cell_type": "code",
   "execution_count": null,
   "id": "a5fbbb66-113c-4087-968f-5a3887902624",
   "metadata": {},
   "outputs": [],
   "source": []
  }
 ],
 "metadata": {
  "kernelspec": {
   "display_name": "Python 3 (ipykernel)",
   "language": "python",
   "name": "python3"
  },
  "language_info": {
   "codemirror_mode": {
    "name": "ipython",
    "version": 3
   },
   "file_extension": ".py",
   "mimetype": "text/x-python",
   "name": "python",
   "nbconvert_exporter": "python",
   "pygments_lexer": "ipython3",
   "version": "3.11.7"
  }
 },
 "nbformat": 4,
 "nbformat_minor": 5
}
