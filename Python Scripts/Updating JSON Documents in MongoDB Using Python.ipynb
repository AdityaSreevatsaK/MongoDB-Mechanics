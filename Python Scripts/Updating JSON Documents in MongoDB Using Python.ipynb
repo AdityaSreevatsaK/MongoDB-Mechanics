{
 "cells": [
  {
   "cell_type": "code",
   "execution_count": 1,
   "id": "c251354a-b9cd-4bd4-bd5b-3700a61e9f61",
   "metadata": {},
   "outputs": [],
   "source": [
    "from pymongo import MongoClient\n",
    "from pprint import pprint"
   ]
  },
  {
   "cell_type": "markdown",
   "id": "fb3401aa-310b-476c-82f5-5e295eed4b01",
   "metadata": {},
   "source": [
    "# Connection"
   ]
  },
  {
   "cell_type": "code",
   "execution_count": 2,
   "id": "b8ff453d-e73d-47a5-96c3-f9abeb7b9603",
   "metadata": {},
   "outputs": [],
   "source": [
    "client = MongoClient(port=27017)"
   ]
  },
  {
   "cell_type": "code",
   "execution_count": 3,
   "id": "4a7d3a1a-4cb8-4f27-902d-b605d1dbb401",
   "metadata": {},
   "outputs": [
    {
     "data": {
      "text/plain": [
       "MongoClient(host=['localhost:27017'], document_class=dict, tz_aware=False, connect=True)"
      ]
     },
     "execution_count": 3,
     "metadata": {},
     "output_type": "execute_result"
    }
   ],
   "source": [
    "client"
   ]
  },
  {
   "cell_type": "code",
   "execution_count": 4,
   "id": "a20fc67d-94f6-4ea7-b76d-5eddf69f5d24",
   "metadata": {},
   "outputs": [],
   "source": [
    "employee_db = client.employee"
   ]
  },
  {
   "cell_type": "code",
   "execution_count": 5,
   "id": "6bed9d5a-d4ff-458a-93ce-c6e56a023f5e",
   "metadata": {},
   "outputs": [
    {
     "data": {
      "text/plain": [
       "Database(MongoClient(host=['localhost:27017'], document_class=dict, tz_aware=False, connect=True), 'employee')"
      ]
     },
     "execution_count": 5,
     "metadata": {},
     "output_type": "execute_result"
    }
   ],
   "source": [
    "employee_db"
   ]
  },
  {
   "cell_type": "code",
   "execution_count": 6,
   "id": "9708fd2c-86aa-43d9-92f5-8d6a7a004180",
   "metadata": {},
   "outputs": [],
   "source": [
    "inventory = employee_db.inventory"
   ]
  },
  {
   "cell_type": "code",
   "execution_count": 7,
   "id": "36903aa2-7706-4a50-9f46-d2372c31ae57",
   "metadata": {},
   "outputs": [
    {
     "data": {
      "text/plain": [
       "Collection(Database(MongoClient(host=['localhost:27017'], document_class=dict, tz_aware=False, connect=True), 'employee'), 'inventory')"
      ]
     },
     "execution_count": 7,
     "metadata": {},
     "output_type": "execute_result"
    }
   ],
   "source": [
    "inventory"
   ]
  },
  {
   "cell_type": "code",
   "execution_count": 8,
   "id": "f7c9048a-f457-4a98-b6e9-9f6a11d60bc5",
   "metadata": {},
   "outputs": [
    {
     "data": {
      "text/plain": [
       "InsertManyResult([ObjectId('681f03b1f566cf5327afaf0d'), ObjectId('681f03b1f566cf5327afaf0e'), ObjectId('681f03b1f566cf5327afaf0f'), ObjectId('681f03b1f566cf5327afaf10'), ObjectId('681f03b1f566cf5327afaf11'), ObjectId('681f03b1f566cf5327afaf12'), ObjectId('681f03b1f566cf5327afaf13'), ObjectId('681f03b1f566cf5327afaf14'), ObjectId('681f03b1f566cf5327afaf15'), ObjectId('681f03b1f566cf5327afaf16')], acknowledged=True)"
      ]
     },
     "execution_count": 8,
     "metadata": {},
     "output_type": "execute_result"
    }
   ],
   "source": [
    "inventory.insert_many([\n",
    "  {\n",
    "    \"item\": \"canvas\",\n",
    "    \"qty\": 100,\n",
    "    \"size\": {\n",
    "      \"h\": 28,\n",
    "      \"w\": 35.5,\n",
    "      \"uom\": \"cm\"\n",
    "    },\n",
    "    \"status\": \"A\"\n",
    "  },\n",
    "  {\n",
    "    \"item\": \"journal\",\n",
    "    \"qty\": 25,\n",
    "    \"size\": {\n",
    "      \"h\": 14,\n",
    "      \"w\": 21,\n",
    "      \"uom\": \"cm\"\n",
    "    },\n",
    "    \"status\": \"A\"\n",
    "  },\n",
    "  {\n",
    "    \"item\": \"mat\",\n",
    "    \"qty\": 85,\n",
    "    \"size\": {\n",
    "      \"h\": 27.9,\n",
    "      \"w\": 35.5,\n",
    "      \"uom\": \"cm\"\n",
    "    },\n",
    "    \"status\": \"A\"\n",
    "  },\n",
    "  {\n",
    "    \"item\": \"mousepad\",\n",
    "    \"qty\": 25,\n",
    "    \"size\": {\n",
    "      \"h\": 19,\n",
    "      \"w\": 22.85,\n",
    "      \"uom\": \"cm\"\n",
    "    },\n",
    "    \"status\": \"P\"\n",
    "  },\n",
    "  {\n",
    "    \"item\": \"notebook\",\n",
    "    \"qty\": 50,\n",
    "    \"size\": {\n",
    "      \"h\": 8.5,\n",
    "      \"w\": 11,\n",
    "      \"uom\": \"in\"\n",
    "    },\n",
    "    \"status\": \"P\"\n",
    "  },\n",
    "  {\n",
    "    \"item\": \"paper\",\n",
    "    \"qty\": 100,\n",
    "    \"size\": {\n",
    "      \"h\": 8.5,\n",
    "      \"w\": 11,\n",
    "      \"uom\": \"in\"\n",
    "    },\n",
    "    \"status\": \"D\"\n",
    "  },\n",
    "  {\n",
    "    \"item\": \"planner\",\n",
    "    \"qty\": 75,\n",
    "    \"size\": {\n",
    "      \"h\": 22.85,\n",
    "      \"w\": 30,\n",
    "      \"uom\": \"cm\"\n",
    "    },\n",
    "    \"status\": \"D\"\n",
    "  },\n",
    "  {\n",
    "    \"item\": \"postcard\",\n",
    "    \"qty\": 45,\n",
    "    \"size\": {\n",
    "      \"h\": 10,\n",
    "      \"w\": 15.25,\n",
    "      \"uom\": \"cm\"\n",
    "    },\n",
    "    \"status\": \"A\"\n",
    "  },\n",
    "  {\n",
    "    \"item\": \"sketchbook\",\n",
    "    \"qty\": 80,\n",
    "    \"size\": {\n",
    "      \"h\": 14,\n",
    "      \"w\": 21,\n",
    "      \"uom\": \"cm\"\n",
    "    },\n",
    "    \"status\": \"A\"\n",
    "  },\n",
    "  {\n",
    "    \"item\": \"sketch pad\",\n",
    "    \"qty\": 95,\n",
    "    \"size\": {\n",
    "      \"h\": 22.85,\n",
    "      \"w\": 30.5,\n",
    "      \"uom\": \"cm\"\n",
    "    },\n",
    "    \"status\": \"A\"\n",
    "  }\n",
    "])"
   ]
  },
  {
   "cell_type": "code",
   "execution_count": 9,
   "id": "ffdddc73-6b2b-4844-b802-90f86bed1a29",
   "metadata": {
    "scrolled": true
   },
   "outputs": [
    {
     "name": "stdout",
     "output_type": "stream",
     "text": [
      "{'_id': ObjectId('681ef6f07a21e98e20cbce53'),\n",
      " 'item': 'journal',\n",
      " 'lastModified': datetime.datetime(2025, 5, 10, 7, 37, 36, 923000),\n",
      " 'qty': 25,\n",
      " 'size': {'h': 14, 'uom': 'in', 'w': 21},\n",
      " 'status': 'P'}\n",
      "{'_id': ObjectId('681ef6f07a21e98e20cbce54'),\n",
      " 'item': 'notebook',\n",
      " 'qty': 50,\n",
      " 'size': {'h': 8.5, 'uom': 'in', 'w': 11},\n",
      " 'status': 'A'}\n",
      "{'_id': ObjectId('681ef6f07a21e98e20cbce55'),\n",
      " 'instock': [{'qty': 60, 'warehouse': 'A'}, {'qty': 40, 'warehouse': 'B'}],\n",
      " 'item': 'paper'}\n",
      "{'_id': ObjectId('681ef6f07a21e98e20cbce56'),\n",
      " 'item': 'planner',\n",
      " 'qty': 75,\n",
      " 'size': {'h': 22.85, 'uom': 'cm', 'w': 30},\n",
      " 'status': 'D'}\n",
      "{'_id': ObjectId('681ef6f07a21e98e20cbce57'),\n",
      " 'item': 'postcard',\n",
      " 'lastModified': datetime.datetime(2025, 5, 10, 7, 37, 36, 923000),\n",
      " 'qty': 45,\n",
      " 'size': {'h': 10, 'uom': 'in', 'w': 15.25},\n",
      " 'status': 'P'}\n",
      "{'_id': ObjectId('681efee6dca63f9219d1bc3e'),\n",
      " 'item': 'canvas',\n",
      " 'qty': 100,\n",
      " 'size': {'h': 28, 'uom': 'cm', 'w': 35.5},\n",
      " 'status': 'A'}\n",
      "{'_id': ObjectId('681efee6dca63f9219d1bc3f'),\n",
      " 'item': 'journal',\n",
      " 'lastModified': datetime.datetime(2025, 5, 10, 7, 37, 36, 923000),\n",
      " 'qty': 25,\n",
      " 'size': {'h': 14, 'uom': 'in', 'w': 21},\n",
      " 'status': 'P'}\n",
      "{'_id': ObjectId('681efee6dca63f9219d1bc40'),\n",
      " 'item': 'mat',\n",
      " 'qty': 85,\n",
      " 'size': {'h': 27.9, 'uom': 'cm', 'w': 35.5},\n",
      " 'status': 'A'}\n",
      "{'_id': ObjectId('681efee6dca63f9219d1bc41'),\n",
      " 'item': 'mousepad',\n",
      " 'lastModified': datetime.datetime(2025, 5, 10, 7, 37, 36, 924000),\n",
      " 'qty': 25,\n",
      " 'size': {'h': 19, 'uom': 'in', 'w': 22.85},\n",
      " 'status': 'P'}\n",
      "{'_id': ObjectId('681efee6dca63f9219d1bc42'),\n",
      " 'item': 'notebook',\n",
      " 'qty': 50,\n",
      " 'size': {'h': 8.5, 'uom': 'in', 'w': 11},\n",
      " 'status': 'P'}\n",
      "{'_id': ObjectId('681efee6dca63f9219d1bc43'),\n",
      " 'item': 'paper',\n",
      " 'qty': 100,\n",
      " 'size': {'h': 8.5, 'uom': 'in', 'w': 11},\n",
      " 'status': 'D'}\n",
      "{'_id': ObjectId('681efee6dca63f9219d1bc44'),\n",
      " 'item': 'planner',\n",
      " 'qty': 75,\n",
      " 'size': {'h': 22.85, 'uom': 'cm', 'w': 30},\n",
      " 'status': 'D'}\n",
      "{'_id': ObjectId('681efee6dca63f9219d1bc45'),\n",
      " 'item': 'postcard',\n",
      " 'lastModified': datetime.datetime(2025, 5, 10, 7, 37, 36, 924000),\n",
      " 'qty': 45,\n",
      " 'size': {'h': 10, 'uom': 'in', 'w': 15.25},\n",
      " 'status': 'P'}\n",
      "{'_id': ObjectId('681efee6dca63f9219d1bc46'),\n",
      " 'item': 'sketchbook',\n",
      " 'qty': 80,\n",
      " 'size': {'h': 14, 'uom': 'cm', 'w': 21},\n",
      " 'status': 'A'}\n",
      "{'_id': ObjectId('681efee6dca63f9219d1bc47'),\n",
      " 'item': 'sketch pad',\n",
      " 'lastModified': datetime.datetime(2025, 5, 10, 7, 34, 12, 754000),\n",
      " 'qty': 95,\n",
      " 'size': {'h': 22.85, 'uom': 'm', 'w': 30.5},\n",
      " 'status': 'P'}\n",
      "{'_id': ObjectId('681f03b1f566cf5327afaf0d'),\n",
      " 'item': 'canvas',\n",
      " 'qty': 100,\n",
      " 'size': {'h': 28, 'uom': 'cm', 'w': 35.5},\n",
      " 'status': 'A'}\n",
      "{'_id': ObjectId('681f03b1f566cf5327afaf0e'),\n",
      " 'item': 'journal',\n",
      " 'qty': 25,\n",
      " 'size': {'h': 14, 'uom': 'cm', 'w': 21},\n",
      " 'status': 'A'}\n",
      "{'_id': ObjectId('681f03b1f566cf5327afaf0f'),\n",
      " 'item': 'mat',\n",
      " 'qty': 85,\n",
      " 'size': {'h': 27.9, 'uom': 'cm', 'w': 35.5},\n",
      " 'status': 'A'}\n",
      "{'_id': ObjectId('681f03b1f566cf5327afaf10'),\n",
      " 'item': 'mousepad',\n",
      " 'qty': 25,\n",
      " 'size': {'h': 19, 'uom': 'cm', 'w': 22.85},\n",
      " 'status': 'P'}\n",
      "{'_id': ObjectId('681f03b1f566cf5327afaf11'),\n",
      " 'item': 'notebook',\n",
      " 'qty': 50,\n",
      " 'size': {'h': 8.5, 'uom': 'in', 'w': 11},\n",
      " 'status': 'P'}\n",
      "{'_id': ObjectId('681f03b1f566cf5327afaf12'),\n",
      " 'item': 'paper',\n",
      " 'qty': 100,\n",
      " 'size': {'h': 8.5, 'uom': 'in', 'w': 11},\n",
      " 'status': 'D'}\n",
      "{'_id': ObjectId('681f03b1f566cf5327afaf13'),\n",
      " 'item': 'planner',\n",
      " 'qty': 75,\n",
      " 'size': {'h': 22.85, 'uom': 'cm', 'w': 30},\n",
      " 'status': 'D'}\n",
      "{'_id': ObjectId('681f03b1f566cf5327afaf14'),\n",
      " 'item': 'postcard',\n",
      " 'qty': 45,\n",
      " 'size': {'h': 10, 'uom': 'cm', 'w': 15.25},\n",
      " 'status': 'A'}\n",
      "{'_id': ObjectId('681f03b1f566cf5327afaf15'),\n",
      " 'item': 'sketchbook',\n",
      " 'qty': 80,\n",
      " 'size': {'h': 14, 'uom': 'cm', 'w': 21},\n",
      " 'status': 'A'}\n",
      "{'_id': ObjectId('681f03b1f566cf5327afaf16'),\n",
      " 'item': 'sketch pad',\n",
      " 'qty': 95,\n",
      " 'size': {'h': 22.85, 'uom': 'cm', 'w': 30.5},\n",
      " 'status': 'A'}\n"
     ]
    }
   ],
   "source": [
    "for record in inventory.find({}):\n",
    "    pprint(record)"
   ]
  },
  {
   "cell_type": "markdown",
   "id": "7e7d5f17-1d6c-4f3d-8e40-50ea9bad0c40",
   "metadata": {},
   "source": [
    "## Updating ONE record"
   ]
  },
  {
   "cell_type": "markdown",
   "id": "826f7f98-859b-471d-be73-e1f277125608",
   "metadata": {},
   "source": [
    "Target document: The document where item is 'sketch pad' will be updated.\n",
    "\n",
    "Changes:\n",
    "\n",
    "- The size.uom will be set to \"m\".\n",
    "- The status will be set to \"P\".\n",
    "- The lastModified field will be updated with the current date and time.\n",
    "\n",
    "Only the first document that matches the filter will be updated."
   ]
  },
  {
   "cell_type": "code",
   "execution_count": 10,
   "id": "d1c8531c-35f3-401a-866d-651d08402bce",
   "metadata": {},
   "outputs": [
    {
     "data": {
      "text/plain": [
       "UpdateResult({'n': 1, 'nModified': 1, 'ok': 1.0, 'updatedExisting': True}, acknowledged=True)"
      ]
     },
     "execution_count": 10,
     "metadata": {},
     "output_type": "execute_result"
    }
   ],
   "source": [
    "inventory.update_one(\n",
    "    {\n",
    "        'item': 'sketch pad'\n",
    "    }, \n",
    "    {\n",
    "        '$set': {\n",
    "                    \"size.uom\": \"m\", \n",
    "                    \"status\": \"P\"\n",
    "                }, \n",
    "                \"$currentDate\": {'lastModified': True}\n",
    "    }\n",
    ")"
   ]
  },
  {
   "cell_type": "markdown",
   "id": "e0159229-0dde-43e7-8c90-893e89de224f",
   "metadata": {},
   "source": [
    "## Update Many records"
   ]
  },
  {
   "cell_type": "markdown",
   "id": "09e2ed48-e877-4772-8eb9-86fe69fb1edb",
   "metadata": {},
   "source": [
    "Target documents: All documents where the qty is less than 50 will be updated.\n",
    "\n",
    "Changes:\n",
    "\n",
    "- The size.uom will be set to \"in\".\n",
    "- The status will be set to \"P\".\n",
    "- The lastModified field will be updated with the current date and time.\n",
    "\n",
    "This operation is useful for marking items with low quantity (less than 50) and updating their status and unit of measurement, while also recording when the update was made."
   ]
  },
  {
   "cell_type": "code",
   "execution_count": 11,
   "id": "1e851538-5e06-45db-abb4-51b825f91cbc",
   "metadata": {},
   "outputs": [
    {
     "data": {
      "text/plain": [
       "UpdateResult({'n': 8, 'nModified': 8, 'ok': 1.0, 'updatedExisting': True}, acknowledged=True)"
      ]
     },
     "execution_count": 11,
     "metadata": {},
     "output_type": "execute_result"
    }
   ],
   "source": [
    "inventory.update_many(\n",
    "    {'qty' : {\"$lt\": 50}},\n",
    "    {\"$set\":{\n",
    "                \"size.uom\" : \"in\", \n",
    "                \"status\": \"P\"\n",
    "            },\n",
    "             \"$currentDate\": {\"lastModified\": True}\n",
    "    }\n",
    ")"
   ]
  },
  {
   "cell_type": "markdown",
   "id": "99c847fa-3931-48df-b215-f8df8a43633d",
   "metadata": {},
   "source": [
    "The message means that 5 records were updated. Here's the breakdown:\n",
    "\n",
    "- n: 5: This indicates that 5 documents (records) were affected.\n",
    "- nModified: 5: This shows that 5 records were modified.\n",
    "- updatedExisting: True: This means that the existing records were updated, not new ones inserted.\n",
    "- ok: 1.0: This indicates that the operation was successful.\n",
    "\n",
    "So, 5 records were indeed updated."
   ]
  },
  {
   "cell_type": "markdown",
   "id": "549c567f-ad81-4f5d-a234-4836666f0bbf",
   "metadata": {},
   "source": [
    "## Replace ONE record"
   ]
  },
  {
   "cell_type": "markdown",
   "id": "9f89d399-e590-4087-9afa-112b043eb789",
   "metadata": {},
   "source": [
    "The operation finds the document with item: 'paper' and replaces the entire document with the new structure that contains updated stock details in the instock field for the warehouses. If no document is found matching the filter ({'item': 'paper'}), nothing will be replaced."
   ]
  },
  {
   "cell_type": "code",
   "execution_count": 12,
   "id": "6dfae4df-3c80-45ef-8e3c-1de37c9f1e92",
   "metadata": {},
   "outputs": [
    {
     "data": {
      "text/plain": [
       "UpdateResult({'n': 1, 'nModified': 1, 'ok': 1.0, 'updatedExisting': True}, acknowledged=True)"
      ]
     },
     "execution_count": 12,
     "metadata": {},
     "output_type": "execute_result"
    }
   ],
   "source": [
    "inventory.replace_one(\n",
    "    {'item': 'paper'},\n",
    "    {\n",
    "        'item': 'paper',\n",
    "        'instock': [\n",
    "            {\n",
    "                'warehouse': \"A\", \n",
    "                'qty': 60\n",
    "            },\n",
    "            {\n",
    "                'warehouse': \"B\",\n",
    "                'qty': 40\n",
    "            }\n",
    "        ]\n",
    "    }\n",
    ")"
   ]
  },
  {
   "cell_type": "code",
   "execution_count": null,
   "id": "9caf6923-935b-421f-a235-966e880e4327",
   "metadata": {},
   "outputs": [],
   "source": []
  }
 ],
 "metadata": {
  "kernelspec": {
   "display_name": "Python 3 (ipykernel)",
   "language": "python",
   "name": "python3"
  },
  "language_info": {
   "codemirror_mode": {
    "name": "ipython",
    "version": 3
   },
   "file_extension": ".py",
   "mimetype": "text/x-python",
   "name": "python",
   "nbconvert_exporter": "python",
   "pygments_lexer": "ipython3",
   "version": "3.11.7"
  }
 },
 "nbformat": 4,
 "nbformat_minor": 5
}
