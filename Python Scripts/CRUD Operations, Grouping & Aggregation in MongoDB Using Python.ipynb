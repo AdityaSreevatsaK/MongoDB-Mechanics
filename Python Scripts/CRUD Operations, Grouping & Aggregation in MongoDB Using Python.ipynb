{
 "cells": [
  {
   "cell_type": "code",
   "execution_count": 1,
   "id": "359c7efc-538e-4124-a844-65ecf27a66ae",
   "metadata": {},
   "outputs": [],
   "source": [
    "from pymongo import MongoClient\n",
    "from pprint import pprint\n",
    "from random import randint\n",
    "from bson.son import SON"
   ]
  },
  {
   "cell_type": "code",
   "execution_count": 2,
   "id": "ac049f28-1af5-4404-9801-1c32f337696d",
   "metadata": {},
   "outputs": [
    {
     "data": {
      "text/plain": [
       "MongoClient(host=['localhost:27017'], document_class=dict, tz_aware=False, connect=True)"
      ]
     },
     "execution_count": 2,
     "metadata": {},
     "output_type": "execute_result"
    }
   ],
   "source": [
    "client = MongoClient(port=27017)\n",
    "client"
   ]
  },
  {
   "cell_type": "code",
   "execution_count": 3,
   "id": "d890047c-4cbb-48b5-b37e-96f4d39b8fbc",
   "metadata": {},
   "outputs": [],
   "source": [
    "products_db = client['products']"
   ]
  },
  {
   "cell_type": "code",
   "execution_count": 4,
   "id": "328f456d-0829-4488-a333-834fc27c08d4",
   "metadata": {},
   "outputs": [
    {
     "data": {
      "text/plain": [
       "Database(MongoClient(host=['localhost:27017'], document_class=dict, tz_aware=False, connect=True), 'products')"
      ]
     },
     "execution_count": 4,
     "metadata": {},
     "output_type": "execute_result"
    }
   ],
   "source": [
    "products_db"
   ]
  },
  {
   "cell_type": "code",
   "execution_count": 5,
   "id": "2c1563c6-e66e-4a56-b97b-531e7966f86e",
   "metadata": {},
   "outputs": [
    {
     "data": {
      "text/plain": [
       "Collection(Database(MongoClient(host=['localhost:27017'], document_class=dict, tz_aware=False, connect=True), 'products'), 'product_feedback')"
      ]
     },
     "execution_count": 5,
     "metadata": {},
     "output_type": "execute_result"
    }
   ],
   "source": [
    "product_collection = products_db['product_feedback']\n",
    "product_collection"
   ]
  },
  {
   "cell_type": "code",
   "execution_count": 6,
   "id": "e7ca1d51-fd71-4e15-be98-caf75649bb26",
   "metadata": {},
   "outputs": [],
   "source": [
    "productlist = []\n",
    "product_name = ['Mobile', 'TV', 'Washing machine', 'Refrigerator', 'Microwave Oven', 'Induction cooker', 'AC']\n",
    "company_name = ['LG', 'Samsung', 'Bosch', 'Siemens', 'Whirlpool', 'Electrolux', 'Haier', 'Videocon']"
   ]
  },
  {
   "cell_type": "code",
   "execution_count": 7,
   "id": "eee499b6-be05-4bc3-b17c-80c0d40dc143",
   "metadata": {},
   "outputs": [],
   "source": [
    "for x in range(1, 1001):\n",
    "    sale = {\n",
    "        'name' : product_name[randint(0, (len(product_name)-1))],\n",
    "        'rating' : randint(1, 5),\n",
    "        'brand' : company_name[randint(0, (len(company_name)-1))] \n",
    "    }\n",
    "    productlist.append(sale)"
   ]
  },
  {
   "cell_type": "code",
   "execution_count": 8,
   "id": "64551168-6000-48c1-b370-0f57e469cb23",
   "metadata": {},
   "outputs": [
    {
     "data": {
      "text/plain": [
       "[{'name': 'Mobile', 'rating': 4, 'brand': 'Electrolux'},\n",
       " {'name': 'TV', 'rating': 1, 'brand': 'Siemens'},\n",
       " {'name': 'Induction cooker', 'rating': 1, 'brand': 'Electrolux'},\n",
       " {'name': 'Refrigerator', 'rating': 1, 'brand': 'Whirlpool'},\n",
       " {'name': 'Refrigerator', 'rating': 4, 'brand': 'Samsung'}]"
      ]
     },
     "execution_count": 8,
     "metadata": {},
     "output_type": "execute_result"
    }
   ],
   "source": [
    "productlist[:5]"
   ]
  },
  {
   "cell_type": "code",
   "execution_count": 9,
   "id": "e75f7173-c19d-422f-9b36-4a028ad3e58b",
   "metadata": {
    "scrolled": true
   },
   "outputs": [
    {
     "data": {
      "text/plain": [
       "InsertManyResult([ObjectId('68209cf0a88a212cf10f5b76'), ObjectId('68209cf0a88a212cf10f5b77'), ObjectId('68209cf0a88a212cf10f5b78'), ObjectId('68209cf0a88a212cf10f5b79'), ObjectId('68209cf0a88a212cf10f5b7a'), ObjectId('68209cf0a88a212cf10f5b7b'), ObjectId('68209cf0a88a212cf10f5b7c'), ObjectId('68209cf0a88a212cf10f5b7d'), ObjectId('68209cf0a88a212cf10f5b7e'), ObjectId('68209cf0a88a212cf10f5b7f'), ObjectId('68209cf0a88a212cf10f5b80'), ObjectId('68209cf0a88a212cf10f5b81'), ObjectId('68209cf0a88a212cf10f5b82'), ObjectId('68209cf0a88a212cf10f5b83'), ObjectId('68209cf0a88a212cf10f5b84'), ObjectId('68209cf0a88a212cf10f5b85'), ObjectId('68209cf0a88a212cf10f5b86'), ObjectId('68209cf0a88a212cf10f5b87'), ObjectId('68209cf0a88a212cf10f5b88'), ObjectId('68209cf0a88a212cf10f5b89'), ObjectId('68209cf0a88a212cf10f5b8a'), ObjectId('68209cf0a88a212cf10f5b8b'), ObjectId('68209cf0a88a212cf10f5b8c'), ObjectId('68209cf0a88a212cf10f5b8d'), ObjectId('68209cf0a88a212cf10f5b8e'), ObjectId('68209cf0a88a212cf10f5b8f'), ObjectId('68209cf0a88a212cf10f5b90'), ObjectId('68209cf0a88a212cf10f5b91'), ObjectId('68209cf0a88a212cf10f5b92'), ObjectId('68209cf0a88a212cf10f5b93'), ObjectId('68209cf0a88a212cf10f5b94'), ObjectId('68209cf0a88a212cf10f5b95'), ObjectId('68209cf0a88a212cf10f5b96'), ObjectId('68209cf0a88a212cf10f5b97'), ObjectId('68209cf0a88a212cf10f5b98'), ObjectId('68209cf0a88a212cf10f5b99'), ObjectId('68209cf0a88a212cf10f5b9a'), ObjectId('68209cf0a88a212cf10f5b9b'), ObjectId('68209cf0a88a212cf10f5b9c'), ObjectId('68209cf0a88a212cf10f5b9d'), ObjectId('68209cf0a88a212cf10f5b9e'), ObjectId('68209cf0a88a212cf10f5b9f'), ObjectId('68209cf0a88a212cf10f5ba0'), ObjectId('68209cf0a88a212cf10f5ba1'), ObjectId('68209cf0a88a212cf10f5ba2'), ObjectId('68209cf0a88a212cf10f5ba3'), ObjectId('68209cf0a88a212cf10f5ba4'), ObjectId('68209cf0a88a212cf10f5ba5'), ObjectId('68209cf0a88a212cf10f5ba6'), ObjectId('68209cf0a88a212cf10f5ba7'), ObjectId('68209cf0a88a212cf10f5ba8'), ObjectId('68209cf0a88a212cf10f5ba9'), ObjectId('68209cf0a88a212cf10f5baa'), ObjectId('68209cf0a88a212cf10f5bab'), ObjectId('68209cf0a88a212cf10f5bac'), ObjectId('68209cf0a88a212cf10f5bad'), ObjectId('68209cf0a88a212cf10f5bae'), ObjectId('68209cf0a88a212cf10f5baf'), ObjectId('68209cf0a88a212cf10f5bb0'), ObjectId('68209cf0a88a212cf10f5bb1'), ObjectId('68209cf0a88a212cf10f5bb2'), ObjectId('68209cf0a88a212cf10f5bb3'), ObjectId('68209cf0a88a212cf10f5bb4'), ObjectId('68209cf0a88a212cf10f5bb5'), ObjectId('68209cf0a88a212cf10f5bb6'), ObjectId('68209cf0a88a212cf10f5bb7'), ObjectId('68209cf0a88a212cf10f5bb8'), ObjectId('68209cf0a88a212cf10f5bb9'), ObjectId('68209cf0a88a212cf10f5bba'), ObjectId('68209cf0a88a212cf10f5bbb'), ObjectId('68209cf0a88a212cf10f5bbc'), ObjectId('68209cf0a88a212cf10f5bbd'), ObjectId('68209cf0a88a212cf10f5bbe'), ObjectId('68209cf0a88a212cf10f5bbf'), ObjectId('68209cf0a88a212cf10f5bc0'), ObjectId('68209cf0a88a212cf10f5bc1'), ObjectId('68209cf0a88a212cf10f5bc2'), ObjectId('68209cf0a88a212cf10f5bc3'), ObjectId('68209cf0a88a212cf10f5bc4'), ObjectId('68209cf0a88a212cf10f5bc5'), ObjectId('68209cf0a88a212cf10f5bc6'), ObjectId('68209cf0a88a212cf10f5bc7'), ObjectId('68209cf0a88a212cf10f5bc8'), ObjectId('68209cf0a88a212cf10f5bc9'), ObjectId('68209cf0a88a212cf10f5bca'), ObjectId('68209cf0a88a212cf10f5bcb'), ObjectId('68209cf0a88a212cf10f5bcc'), ObjectId('68209cf0a88a212cf10f5bcd'), ObjectId('68209cf0a88a212cf10f5bce'), ObjectId('68209cf0a88a212cf10f5bcf'), ObjectId('68209cf0a88a212cf10f5bd0'), ObjectId('68209cf0a88a212cf10f5bd1'), ObjectId('68209cf0a88a212cf10f5bd2'), ObjectId('68209cf0a88a212cf10f5bd3'), ObjectId('68209cf0a88a212cf10f5bd4'), ObjectId('68209cf0a88a212cf10f5bd5'), ObjectId('68209cf0a88a212cf10f5bd6'), ObjectId('68209cf0a88a212cf10f5bd7'), ObjectId('68209cf0a88a212cf10f5bd8'), ObjectId('68209cf0a88a212cf10f5bd9'), ObjectId('68209cf0a88a212cf10f5bda'), ObjectId('68209cf0a88a212cf10f5bdb'), ObjectId('68209cf0a88a212cf10f5bdc'), ObjectId('68209cf0a88a212cf10f5bdd'), ObjectId('68209cf0a88a212cf10f5bde'), ObjectId('68209cf0a88a212cf10f5bdf'), ObjectId('68209cf0a88a212cf10f5be0'), ObjectId('68209cf0a88a212cf10f5be1'), ObjectId('68209cf0a88a212cf10f5be2'), ObjectId('68209cf0a88a212cf10f5be3'), ObjectId('68209cf0a88a212cf10f5be4'), ObjectId('68209cf0a88a212cf10f5be5'), ObjectId('68209cf0a88a212cf10f5be6'), ObjectId('68209cf0a88a212cf10f5be7'), ObjectId('68209cf0a88a212cf10f5be8'), ObjectId('68209cf0a88a212cf10f5be9'), ObjectId('68209cf0a88a212cf10f5bea'), ObjectId('68209cf0a88a212cf10f5beb'), ObjectId('68209cf0a88a212cf10f5bec'), ObjectId('68209cf0a88a212cf10f5bed'), ObjectId('68209cf0a88a212cf10f5bee'), ObjectId('68209cf0a88a212cf10f5bef'), ObjectId('68209cf0a88a212cf10f5bf0'), ObjectId('68209cf0a88a212cf10f5bf1'), ObjectId('68209cf0a88a212cf10f5bf2'), ObjectId('68209cf0a88a212cf10f5bf3'), ObjectId('68209cf0a88a212cf10f5bf4'), ObjectId('68209cf0a88a212cf10f5bf5'), ObjectId('68209cf0a88a212cf10f5bf6'), ObjectId('68209cf0a88a212cf10f5bf7'), ObjectId('68209cf0a88a212cf10f5bf8'), ObjectId('68209cf0a88a212cf10f5bf9'), ObjectId('68209cf0a88a212cf10f5bfa'), ObjectId('68209cf0a88a212cf10f5bfb'), ObjectId('68209cf0a88a212cf10f5bfc'), ObjectId('68209cf0a88a212cf10f5bfd'), ObjectId('68209cf0a88a212cf10f5bfe'), ObjectId('68209cf0a88a212cf10f5bff'), ObjectId('68209cf0a88a212cf10f5c00'), ObjectId('68209cf0a88a212cf10f5c01'), ObjectId('68209cf0a88a212cf10f5c02'), ObjectId('68209cf0a88a212cf10f5c03'), ObjectId('68209cf0a88a212cf10f5c04'), ObjectId('68209cf0a88a212cf10f5c05'), ObjectId('68209cf0a88a212cf10f5c06'), ObjectId('68209cf0a88a212cf10f5c07'), ObjectId('68209cf0a88a212cf10f5c08'), ObjectId('68209cf0a88a212cf10f5c09'), ObjectId('68209cf0a88a212cf10f5c0a'), ObjectId('68209cf0a88a212cf10f5c0b'), ObjectId('68209cf0a88a212cf10f5c0c'), ObjectId('68209cf0a88a212cf10f5c0d'), ObjectId('68209cf0a88a212cf10f5c0e'), ObjectId('68209cf0a88a212cf10f5c0f'), ObjectId('68209cf0a88a212cf10f5c10'), ObjectId('68209cf0a88a212cf10f5c11'), ObjectId('68209cf0a88a212cf10f5c12'), ObjectId('68209cf0a88a212cf10f5c13'), ObjectId('68209cf0a88a212cf10f5c14'), ObjectId('68209cf0a88a212cf10f5c15'), ObjectId('68209cf0a88a212cf10f5c16'), ObjectId('68209cf0a88a212cf10f5c17'), ObjectId('68209cf0a88a212cf10f5c18'), ObjectId('68209cf0a88a212cf10f5c19'), ObjectId('68209cf0a88a212cf10f5c1a'), ObjectId('68209cf0a88a212cf10f5c1b'), ObjectId('68209cf0a88a212cf10f5c1c'), ObjectId('68209cf0a88a212cf10f5c1d'), ObjectId('68209cf0a88a212cf10f5c1e'), ObjectId('68209cf0a88a212cf10f5c1f'), ObjectId('68209cf0a88a212cf10f5c20'), ObjectId('68209cf0a88a212cf10f5c21'), ObjectId('68209cf0a88a212cf10f5c22'), ObjectId('68209cf0a88a212cf10f5c23'), ObjectId('68209cf0a88a212cf10f5c24'), ObjectId('68209cf0a88a212cf10f5c25'), ObjectId('68209cf0a88a212cf10f5c26'), ObjectId('68209cf0a88a212cf10f5c27'), ObjectId('68209cf0a88a212cf10f5c28'), ObjectId('68209cf0a88a212cf10f5c29'), ObjectId('68209cf0a88a212cf10f5c2a'), ObjectId('68209cf0a88a212cf10f5c2b'), ObjectId('68209cf0a88a212cf10f5c2c'), ObjectId('68209cf0a88a212cf10f5c2d'), ObjectId('68209cf0a88a212cf10f5c2e'), ObjectId('68209cf0a88a212cf10f5c2f'), ObjectId('68209cf0a88a212cf10f5c30'), ObjectId('68209cf0a88a212cf10f5c31'), ObjectId('68209cf0a88a212cf10f5c32'), ObjectId('68209cf0a88a212cf10f5c33'), ObjectId('68209cf0a88a212cf10f5c34'), ObjectId('68209cf0a88a212cf10f5c35'), ObjectId('68209cf0a88a212cf10f5c36'), ObjectId('68209cf0a88a212cf10f5c37'), ObjectId('68209cf0a88a212cf10f5c38'), ObjectId('68209cf0a88a212cf10f5c39'), ObjectId('68209cf0a88a212cf10f5c3a'), ObjectId('68209cf0a88a212cf10f5c3b'), ObjectId('68209cf0a88a212cf10f5c3c'), ObjectId('68209cf0a88a212cf10f5c3d'), ObjectId('68209cf0a88a212cf10f5c3e'), ObjectId('68209cf0a88a212cf10f5c3f'), ObjectId('68209cf0a88a212cf10f5c40'), ObjectId('68209cf0a88a212cf10f5c41'), ObjectId('68209cf0a88a212cf10f5c42'), ObjectId('68209cf0a88a212cf10f5c43'), ObjectId('68209cf0a88a212cf10f5c44'), ObjectId('68209cf0a88a212cf10f5c45'), ObjectId('68209cf0a88a212cf10f5c46'), ObjectId('68209cf0a88a212cf10f5c47'), ObjectId('68209cf0a88a212cf10f5c48'), ObjectId('68209cf0a88a212cf10f5c49'), ObjectId('68209cf0a88a212cf10f5c4a'), ObjectId('68209cf0a88a212cf10f5c4b'), ObjectId('68209cf0a88a212cf10f5c4c'), ObjectId('68209cf0a88a212cf10f5c4d'), ObjectId('68209cf0a88a212cf10f5c4e'), ObjectId('68209cf0a88a212cf10f5c4f'), ObjectId('68209cf0a88a212cf10f5c50'), ObjectId('68209cf0a88a212cf10f5c51'), ObjectId('68209cf0a88a212cf10f5c52'), ObjectId('68209cf0a88a212cf10f5c53'), ObjectId('68209cf0a88a212cf10f5c54'), ObjectId('68209cf0a88a212cf10f5c55'), ObjectId('68209cf0a88a212cf10f5c56'), ObjectId('68209cf0a88a212cf10f5c57'), ObjectId('68209cf0a88a212cf10f5c58'), ObjectId('68209cf0a88a212cf10f5c59'), ObjectId('68209cf0a88a212cf10f5c5a'), ObjectId('68209cf0a88a212cf10f5c5b'), ObjectId('68209cf0a88a212cf10f5c5c'), ObjectId('68209cf0a88a212cf10f5c5d'), ObjectId('68209cf0a88a212cf10f5c5e'), ObjectId('68209cf0a88a212cf10f5c5f'), ObjectId('68209cf0a88a212cf10f5c60'), ObjectId('68209cf0a88a212cf10f5c61'), ObjectId('68209cf0a88a212cf10f5c62'), ObjectId('68209cf0a88a212cf10f5c63'), ObjectId('68209cf0a88a212cf10f5c64'), ObjectId('68209cf0a88a212cf10f5c65'), ObjectId('68209cf0a88a212cf10f5c66'), ObjectId('68209cf0a88a212cf10f5c67'), ObjectId('68209cf0a88a212cf10f5c68'), ObjectId('68209cf0a88a212cf10f5c69'), ObjectId('68209cf0a88a212cf10f5c6a'), ObjectId('68209cf0a88a212cf10f5c6b'), ObjectId('68209cf0a88a212cf10f5c6c'), ObjectId('68209cf0a88a212cf10f5c6d'), ObjectId('68209cf0a88a212cf10f5c6e'), ObjectId('68209cf0a88a212cf10f5c6f'), ObjectId('68209cf0a88a212cf10f5c70'), ObjectId('68209cf0a88a212cf10f5c71'), ObjectId('68209cf0a88a212cf10f5c72'), ObjectId('68209cf0a88a212cf10f5c73'), ObjectId('68209cf0a88a212cf10f5c74'), ObjectId('68209cf0a88a212cf10f5c75'), ObjectId('68209cf0a88a212cf10f5c76'), ObjectId('68209cf0a88a212cf10f5c77'), ObjectId('68209cf0a88a212cf10f5c78'), ObjectId('68209cf0a88a212cf10f5c79'), ObjectId('68209cf0a88a212cf10f5c7a'), ObjectId('68209cf0a88a212cf10f5c7b'), ObjectId('68209cf0a88a212cf10f5c7c'), ObjectId('68209cf0a88a212cf10f5c7d'), ObjectId('68209cf0a88a212cf10f5c7e'), ObjectId('68209cf0a88a212cf10f5c7f'), ObjectId('68209cf0a88a212cf10f5c80'), ObjectId('68209cf0a88a212cf10f5c81'), ObjectId('68209cf0a88a212cf10f5c82'), ObjectId('68209cf0a88a212cf10f5c83'), ObjectId('68209cf0a88a212cf10f5c84'), ObjectId('68209cf0a88a212cf10f5c85'), ObjectId('68209cf0a88a212cf10f5c86'), ObjectId('68209cf0a88a212cf10f5c87'), ObjectId('68209cf0a88a212cf10f5c88'), ObjectId('68209cf0a88a212cf10f5c89'), ObjectId('68209cf0a88a212cf10f5c8a'), ObjectId('68209cf0a88a212cf10f5c8b'), ObjectId('68209cf0a88a212cf10f5c8c'), ObjectId('68209cf0a88a212cf10f5c8d'), ObjectId('68209cf0a88a212cf10f5c8e'), ObjectId('68209cf0a88a212cf10f5c8f'), ObjectId('68209cf0a88a212cf10f5c90'), ObjectId('68209cf0a88a212cf10f5c91'), ObjectId('68209cf0a88a212cf10f5c92'), ObjectId('68209cf0a88a212cf10f5c93'), ObjectId('68209cf0a88a212cf10f5c94'), ObjectId('68209cf0a88a212cf10f5c95'), ObjectId('68209cf0a88a212cf10f5c96'), ObjectId('68209cf0a88a212cf10f5c97'), ObjectId('68209cf0a88a212cf10f5c98'), ObjectId('68209cf0a88a212cf10f5c99'), ObjectId('68209cf0a88a212cf10f5c9a'), ObjectId('68209cf0a88a212cf10f5c9b'), ObjectId('68209cf0a88a212cf10f5c9c'), ObjectId('68209cf0a88a212cf10f5c9d'), ObjectId('68209cf0a88a212cf10f5c9e'), ObjectId('68209cf0a88a212cf10f5c9f'), ObjectId('68209cf0a88a212cf10f5ca0'), ObjectId('68209cf0a88a212cf10f5ca1'), ObjectId('68209cf0a88a212cf10f5ca2'), ObjectId('68209cf0a88a212cf10f5ca3'), ObjectId('68209cf0a88a212cf10f5ca4'), ObjectId('68209cf0a88a212cf10f5ca5'), ObjectId('68209cf0a88a212cf10f5ca6'), ObjectId('68209cf0a88a212cf10f5ca7'), ObjectId('68209cf0a88a212cf10f5ca8'), ObjectId('68209cf0a88a212cf10f5ca9'), ObjectId('68209cf0a88a212cf10f5caa'), ObjectId('68209cf0a88a212cf10f5cab'), ObjectId('68209cf0a88a212cf10f5cac'), ObjectId('68209cf0a88a212cf10f5cad'), ObjectId('68209cf0a88a212cf10f5cae'), ObjectId('68209cf0a88a212cf10f5caf'), ObjectId('68209cf0a88a212cf10f5cb0'), ObjectId('68209cf0a88a212cf10f5cb1'), ObjectId('68209cf0a88a212cf10f5cb2'), ObjectId('68209cf0a88a212cf10f5cb3'), ObjectId('68209cf0a88a212cf10f5cb4'), ObjectId('68209cf0a88a212cf10f5cb5'), ObjectId('68209cf0a88a212cf10f5cb6'), ObjectId('68209cf0a88a212cf10f5cb7'), ObjectId('68209cf0a88a212cf10f5cb8'), ObjectId('68209cf0a88a212cf10f5cb9'), ObjectId('68209cf0a88a212cf10f5cba'), ObjectId('68209cf0a88a212cf10f5cbb'), ObjectId('68209cf0a88a212cf10f5cbc'), ObjectId('68209cf0a88a212cf10f5cbd'), ObjectId('68209cf0a88a212cf10f5cbe'), ObjectId('68209cf0a88a212cf10f5cbf'), ObjectId('68209cf0a88a212cf10f5cc0'), ObjectId('68209cf0a88a212cf10f5cc1'), ObjectId('68209cf0a88a212cf10f5cc2'), ObjectId('68209cf0a88a212cf10f5cc3'), ObjectId('68209cf0a88a212cf10f5cc4'), ObjectId('68209cf0a88a212cf10f5cc5'), ObjectId('68209cf0a88a212cf10f5cc6'), ObjectId('68209cf0a88a212cf10f5cc7'), ObjectId('68209cf0a88a212cf10f5cc8'), ObjectId('68209cf0a88a212cf10f5cc9'), ObjectId('68209cf0a88a212cf10f5cca'), ObjectId('68209cf0a88a212cf10f5ccb'), ObjectId('68209cf0a88a212cf10f5ccc'), ObjectId('68209cf0a88a212cf10f5ccd'), ObjectId('68209cf0a88a212cf10f5cce'), ObjectId('68209cf0a88a212cf10f5ccf'), ObjectId('68209cf0a88a212cf10f5cd0'), ObjectId('68209cf0a88a212cf10f5cd1'), ObjectId('68209cf0a88a212cf10f5cd2'), ObjectId('68209cf0a88a212cf10f5cd3'), ObjectId('68209cf0a88a212cf10f5cd4'), ObjectId('68209cf0a88a212cf10f5cd5'), ObjectId('68209cf0a88a212cf10f5cd6'), ObjectId('68209cf0a88a212cf10f5cd7'), ObjectId('68209cf0a88a212cf10f5cd8'), ObjectId('68209cf0a88a212cf10f5cd9'), ObjectId('68209cf0a88a212cf10f5cda'), ObjectId('68209cf0a88a212cf10f5cdb'), ObjectId('68209cf0a88a212cf10f5cdc'), ObjectId('68209cf0a88a212cf10f5cdd'), ObjectId('68209cf0a88a212cf10f5cde'), ObjectId('68209cf0a88a212cf10f5cdf'), ObjectId('68209cf0a88a212cf10f5ce0'), ObjectId('68209cf0a88a212cf10f5ce1'), ObjectId('68209cf0a88a212cf10f5ce2'), ObjectId('68209cf0a88a212cf10f5ce3'), ObjectId('68209cf0a88a212cf10f5ce4'), ObjectId('68209cf0a88a212cf10f5ce5'), ObjectId('68209cf0a88a212cf10f5ce6'), ObjectId('68209cf0a88a212cf10f5ce7'), ObjectId('68209cf0a88a212cf10f5ce8'), ObjectId('68209cf0a88a212cf10f5ce9'), ObjectId('68209cf0a88a212cf10f5cea'), ObjectId('68209cf0a88a212cf10f5ceb'), ObjectId('68209cf0a88a212cf10f5cec'), ObjectId('68209cf0a88a212cf10f5ced'), ObjectId('68209cf0a88a212cf10f5cee'), ObjectId('68209cf0a88a212cf10f5cef'), ObjectId('68209cf0a88a212cf10f5cf0'), ObjectId('68209cf0a88a212cf10f5cf1'), ObjectId('68209cf0a88a212cf10f5cf2'), ObjectId('68209cf0a88a212cf10f5cf3'), ObjectId('68209cf0a88a212cf10f5cf4'), ObjectId('68209cf0a88a212cf10f5cf5'), ObjectId('68209cf0a88a212cf10f5cf6'), ObjectId('68209cf0a88a212cf10f5cf7'), ObjectId('68209cf0a88a212cf10f5cf8'), ObjectId('68209cf0a88a212cf10f5cf9'), ObjectId('68209cf0a88a212cf10f5cfa'), ObjectId('68209cf0a88a212cf10f5cfb'), ObjectId('68209cf0a88a212cf10f5cfc'), ObjectId('68209cf0a88a212cf10f5cfd'), ObjectId('68209cf0a88a212cf10f5cfe'), ObjectId('68209cf0a88a212cf10f5cff'), ObjectId('68209cf0a88a212cf10f5d00'), ObjectId('68209cf0a88a212cf10f5d01'), ObjectId('68209cf0a88a212cf10f5d02'), ObjectId('68209cf0a88a212cf10f5d03'), ObjectId('68209cf0a88a212cf10f5d04'), ObjectId('68209cf0a88a212cf10f5d05'), ObjectId('68209cf0a88a212cf10f5d06'), ObjectId('68209cf0a88a212cf10f5d07'), ObjectId('68209cf0a88a212cf10f5d08'), ObjectId('68209cf0a88a212cf10f5d09'), ObjectId('68209cf0a88a212cf10f5d0a'), ObjectId('68209cf0a88a212cf10f5d0b'), ObjectId('68209cf0a88a212cf10f5d0c'), ObjectId('68209cf0a88a212cf10f5d0d'), ObjectId('68209cf0a88a212cf10f5d0e'), ObjectId('68209cf0a88a212cf10f5d0f'), ObjectId('68209cf0a88a212cf10f5d10'), ObjectId('68209cf0a88a212cf10f5d11'), ObjectId('68209cf0a88a212cf10f5d12'), ObjectId('68209cf0a88a212cf10f5d13'), ObjectId('68209cf0a88a212cf10f5d14'), ObjectId('68209cf0a88a212cf10f5d15'), ObjectId('68209cf0a88a212cf10f5d16'), ObjectId('68209cf0a88a212cf10f5d17'), ObjectId('68209cf0a88a212cf10f5d18'), ObjectId('68209cf0a88a212cf10f5d19'), ObjectId('68209cf0a88a212cf10f5d1a'), ObjectId('68209cf0a88a212cf10f5d1b'), ObjectId('68209cf0a88a212cf10f5d1c'), ObjectId('68209cf0a88a212cf10f5d1d'), ObjectId('68209cf0a88a212cf10f5d1e'), ObjectId('68209cf0a88a212cf10f5d1f'), ObjectId('68209cf0a88a212cf10f5d20'), ObjectId('68209cf0a88a212cf10f5d21'), ObjectId('68209cf0a88a212cf10f5d22'), ObjectId('68209cf0a88a212cf10f5d23'), ObjectId('68209cf0a88a212cf10f5d24'), ObjectId('68209cf0a88a212cf10f5d25'), ObjectId('68209cf0a88a212cf10f5d26'), ObjectId('68209cf0a88a212cf10f5d27'), ObjectId('68209cf0a88a212cf10f5d28'), ObjectId('68209cf0a88a212cf10f5d29'), ObjectId('68209cf0a88a212cf10f5d2a'), ObjectId('68209cf0a88a212cf10f5d2b'), ObjectId('68209cf0a88a212cf10f5d2c'), ObjectId('68209cf0a88a212cf10f5d2d'), ObjectId('68209cf0a88a212cf10f5d2e'), ObjectId('68209cf0a88a212cf10f5d2f'), ObjectId('68209cf0a88a212cf10f5d30'), ObjectId('68209cf0a88a212cf10f5d31'), ObjectId('68209cf0a88a212cf10f5d32'), ObjectId('68209cf0a88a212cf10f5d33'), ObjectId('68209cf0a88a212cf10f5d34'), ObjectId('68209cf0a88a212cf10f5d35'), ObjectId('68209cf0a88a212cf10f5d36'), ObjectId('68209cf0a88a212cf10f5d37'), ObjectId('68209cf0a88a212cf10f5d38'), ObjectId('68209cf0a88a212cf10f5d39'), ObjectId('68209cf0a88a212cf10f5d3a'), ObjectId('68209cf0a88a212cf10f5d3b'), ObjectId('68209cf0a88a212cf10f5d3c'), ObjectId('68209cf0a88a212cf10f5d3d'), ObjectId('68209cf0a88a212cf10f5d3e'), ObjectId('68209cf0a88a212cf10f5d3f'), ObjectId('68209cf0a88a212cf10f5d40'), ObjectId('68209cf0a88a212cf10f5d41'), ObjectId('68209cf0a88a212cf10f5d42'), ObjectId('68209cf0a88a212cf10f5d43'), ObjectId('68209cf0a88a212cf10f5d44'), ObjectId('68209cf0a88a212cf10f5d45'), ObjectId('68209cf0a88a212cf10f5d46'), ObjectId('68209cf0a88a212cf10f5d47'), ObjectId('68209cf0a88a212cf10f5d48'), ObjectId('68209cf0a88a212cf10f5d49'), ObjectId('68209cf0a88a212cf10f5d4a'), ObjectId('68209cf0a88a212cf10f5d4b'), ObjectId('68209cf0a88a212cf10f5d4c'), ObjectId('68209cf0a88a212cf10f5d4d'), ObjectId('68209cf0a88a212cf10f5d4e'), ObjectId('68209cf0a88a212cf10f5d4f'), ObjectId('68209cf0a88a212cf10f5d50'), ObjectId('68209cf0a88a212cf10f5d51'), ObjectId('68209cf0a88a212cf10f5d52'), ObjectId('68209cf0a88a212cf10f5d53'), ObjectId('68209cf0a88a212cf10f5d54'), ObjectId('68209cf0a88a212cf10f5d55'), ObjectId('68209cf0a88a212cf10f5d56'), ObjectId('68209cf0a88a212cf10f5d57'), ObjectId('68209cf0a88a212cf10f5d58'), ObjectId('68209cf0a88a212cf10f5d59'), ObjectId('68209cf0a88a212cf10f5d5a'), ObjectId('68209cf0a88a212cf10f5d5b'), ObjectId('68209cf0a88a212cf10f5d5c'), ObjectId('68209cf0a88a212cf10f5d5d'), ObjectId('68209cf0a88a212cf10f5d5e'), ObjectId('68209cf0a88a212cf10f5d5f'), ObjectId('68209cf0a88a212cf10f5d60'), ObjectId('68209cf0a88a212cf10f5d61'), ObjectId('68209cf0a88a212cf10f5d62'), ObjectId('68209cf0a88a212cf10f5d63'), ObjectId('68209cf0a88a212cf10f5d64'), ObjectId('68209cf0a88a212cf10f5d65'), ObjectId('68209cf0a88a212cf10f5d66'), ObjectId('68209cf0a88a212cf10f5d67'), ObjectId('68209cf0a88a212cf10f5d68'), ObjectId('68209cf0a88a212cf10f5d69'), ObjectId('68209cf0a88a212cf10f5d6a'), ObjectId('68209cf0a88a212cf10f5d6b'), ObjectId('68209cf0a88a212cf10f5d6c'), ObjectId('68209cf0a88a212cf10f5d6d'), ObjectId('68209cf0a88a212cf10f5d6e'), ObjectId('68209cf0a88a212cf10f5d6f'), ObjectId('68209cf0a88a212cf10f5d70'), ObjectId('68209cf0a88a212cf10f5d71'), ObjectId('68209cf0a88a212cf10f5d72'), ObjectId('68209cf0a88a212cf10f5d73'), ObjectId('68209cf0a88a212cf10f5d74'), ObjectId('68209cf0a88a212cf10f5d75'), ObjectId('68209cf0a88a212cf10f5d76'), ObjectId('68209cf0a88a212cf10f5d77'), ObjectId('68209cf0a88a212cf10f5d78'), ObjectId('68209cf0a88a212cf10f5d79'), ObjectId('68209cf0a88a212cf10f5d7a'), ObjectId('68209cf0a88a212cf10f5d7b'), ObjectId('68209cf0a88a212cf10f5d7c'), ObjectId('68209cf0a88a212cf10f5d7d'), ObjectId('68209cf0a88a212cf10f5d7e'), ObjectId('68209cf0a88a212cf10f5d7f'), ObjectId('68209cf0a88a212cf10f5d80'), ObjectId('68209cf0a88a212cf10f5d81'), ObjectId('68209cf0a88a212cf10f5d82'), ObjectId('68209cf0a88a212cf10f5d83'), ObjectId('68209cf0a88a212cf10f5d84'), ObjectId('68209cf0a88a212cf10f5d85'), ObjectId('68209cf0a88a212cf10f5d86'), ObjectId('68209cf0a88a212cf10f5d87'), ObjectId('68209cf0a88a212cf10f5d88'), ObjectId('68209cf0a88a212cf10f5d89'), ObjectId('68209cf0a88a212cf10f5d8a'), ObjectId('68209cf0a88a212cf10f5d8b'), ObjectId('68209cf0a88a212cf10f5d8c'), ObjectId('68209cf0a88a212cf10f5d8d'), ObjectId('68209cf0a88a212cf10f5d8e'), ObjectId('68209cf0a88a212cf10f5d8f'), ObjectId('68209cf0a88a212cf10f5d90'), ObjectId('68209cf0a88a212cf10f5d91'), ObjectId('68209cf0a88a212cf10f5d92'), ObjectId('68209cf0a88a212cf10f5d93'), ObjectId('68209cf0a88a212cf10f5d94'), ObjectId('68209cf0a88a212cf10f5d95'), ObjectId('68209cf0a88a212cf10f5d96'), ObjectId('68209cf0a88a212cf10f5d97'), ObjectId('68209cf0a88a212cf10f5d98'), ObjectId('68209cf0a88a212cf10f5d99'), ObjectId('68209cf0a88a212cf10f5d9a'), ObjectId('68209cf0a88a212cf10f5d9b'), ObjectId('68209cf0a88a212cf10f5d9c'), ObjectId('68209cf0a88a212cf10f5d9d'), ObjectId('68209cf0a88a212cf10f5d9e'), ObjectId('68209cf0a88a212cf10f5d9f'), ObjectId('68209cf0a88a212cf10f5da0'), ObjectId('68209cf0a88a212cf10f5da1'), ObjectId('68209cf0a88a212cf10f5da2'), ObjectId('68209cf0a88a212cf10f5da3'), ObjectId('68209cf0a88a212cf10f5da4'), ObjectId('68209cf0a88a212cf10f5da5'), ObjectId('68209cf0a88a212cf10f5da6'), ObjectId('68209cf0a88a212cf10f5da7'), ObjectId('68209cf0a88a212cf10f5da8'), ObjectId('68209cf0a88a212cf10f5da9'), ObjectId('68209cf0a88a212cf10f5daa'), ObjectId('68209cf0a88a212cf10f5dab'), ObjectId('68209cf0a88a212cf10f5dac'), ObjectId('68209cf0a88a212cf10f5dad'), ObjectId('68209cf0a88a212cf10f5dae'), ObjectId('68209cf0a88a212cf10f5daf'), ObjectId('68209cf0a88a212cf10f5db0'), ObjectId('68209cf0a88a212cf10f5db1'), ObjectId('68209cf0a88a212cf10f5db2'), ObjectId('68209cf0a88a212cf10f5db3'), ObjectId('68209cf0a88a212cf10f5db4'), ObjectId('68209cf0a88a212cf10f5db5'), ObjectId('68209cf0a88a212cf10f5db6'), ObjectId('68209cf0a88a212cf10f5db7'), ObjectId('68209cf0a88a212cf10f5db8'), ObjectId('68209cf0a88a212cf10f5db9'), ObjectId('68209cf0a88a212cf10f5dba'), ObjectId('68209cf0a88a212cf10f5dbb'), ObjectId('68209cf0a88a212cf10f5dbc'), ObjectId('68209cf0a88a212cf10f5dbd'), ObjectId('68209cf0a88a212cf10f5dbe'), ObjectId('68209cf0a88a212cf10f5dbf'), ObjectId('68209cf0a88a212cf10f5dc0'), ObjectId('68209cf0a88a212cf10f5dc1'), ObjectId('68209cf0a88a212cf10f5dc2'), ObjectId('68209cf0a88a212cf10f5dc3'), ObjectId('68209cf0a88a212cf10f5dc4'), ObjectId('68209cf0a88a212cf10f5dc5'), ObjectId('68209cf0a88a212cf10f5dc6'), ObjectId('68209cf0a88a212cf10f5dc7'), ObjectId('68209cf0a88a212cf10f5dc8'), ObjectId('68209cf0a88a212cf10f5dc9'), ObjectId('68209cf0a88a212cf10f5dca'), ObjectId('68209cf0a88a212cf10f5dcb'), ObjectId('68209cf0a88a212cf10f5dcc'), ObjectId('68209cf0a88a212cf10f5dcd'), ObjectId('68209cf0a88a212cf10f5dce'), ObjectId('68209cf0a88a212cf10f5dcf'), ObjectId('68209cf0a88a212cf10f5dd0'), ObjectId('68209cf0a88a212cf10f5dd1'), ObjectId('68209cf0a88a212cf10f5dd2'), ObjectId('68209cf0a88a212cf10f5dd3'), ObjectId('68209cf0a88a212cf10f5dd4'), ObjectId('68209cf0a88a212cf10f5dd5'), ObjectId('68209cf0a88a212cf10f5dd6'), ObjectId('68209cf0a88a212cf10f5dd7'), ObjectId('68209cf0a88a212cf10f5dd8'), ObjectId('68209cf0a88a212cf10f5dd9'), ObjectId('68209cf0a88a212cf10f5dda'), ObjectId('68209cf0a88a212cf10f5ddb'), ObjectId('68209cf0a88a212cf10f5ddc'), ObjectId('68209cf0a88a212cf10f5ddd'), ObjectId('68209cf0a88a212cf10f5dde'), ObjectId('68209cf0a88a212cf10f5ddf'), ObjectId('68209cf0a88a212cf10f5de0'), ObjectId('68209cf0a88a212cf10f5de1'), ObjectId('68209cf0a88a212cf10f5de2'), ObjectId('68209cf0a88a212cf10f5de3'), ObjectId('68209cf0a88a212cf10f5de4'), ObjectId('68209cf0a88a212cf10f5de5'), ObjectId('68209cf0a88a212cf10f5de6'), ObjectId('68209cf0a88a212cf10f5de7'), ObjectId('68209cf0a88a212cf10f5de8'), ObjectId('68209cf0a88a212cf10f5de9'), ObjectId('68209cf0a88a212cf10f5dea'), ObjectId('68209cf0a88a212cf10f5deb'), ObjectId('68209cf0a88a212cf10f5dec'), ObjectId('68209cf0a88a212cf10f5ded'), ObjectId('68209cf0a88a212cf10f5dee'), ObjectId('68209cf0a88a212cf10f5def'), ObjectId('68209cf0a88a212cf10f5df0'), ObjectId('68209cf0a88a212cf10f5df1'), ObjectId('68209cf0a88a212cf10f5df2'), ObjectId('68209cf0a88a212cf10f5df3'), ObjectId('68209cf0a88a212cf10f5df4'), ObjectId('68209cf0a88a212cf10f5df5'), ObjectId('68209cf0a88a212cf10f5df6'), ObjectId('68209cf0a88a212cf10f5df7'), ObjectId('68209cf0a88a212cf10f5df8'), ObjectId('68209cf0a88a212cf10f5df9'), ObjectId('68209cf0a88a212cf10f5dfa'), ObjectId('68209cf0a88a212cf10f5dfb'), ObjectId('68209cf0a88a212cf10f5dfc'), ObjectId('68209cf0a88a212cf10f5dfd'), ObjectId('68209cf0a88a212cf10f5dfe'), ObjectId('68209cf0a88a212cf10f5dff'), ObjectId('68209cf0a88a212cf10f5e00'), ObjectId('68209cf0a88a212cf10f5e01'), ObjectId('68209cf0a88a212cf10f5e02'), ObjectId('68209cf0a88a212cf10f5e03'), ObjectId('68209cf0a88a212cf10f5e04'), ObjectId('68209cf0a88a212cf10f5e05'), ObjectId('68209cf0a88a212cf10f5e06'), ObjectId('68209cf0a88a212cf10f5e07'), ObjectId('68209cf0a88a212cf10f5e08'), ObjectId('68209cf0a88a212cf10f5e09'), ObjectId('68209cf0a88a212cf10f5e0a'), ObjectId('68209cf0a88a212cf10f5e0b'), ObjectId('68209cf0a88a212cf10f5e0c'), ObjectId('68209cf0a88a212cf10f5e0d'), ObjectId('68209cf0a88a212cf10f5e0e'), ObjectId('68209cf0a88a212cf10f5e0f'), ObjectId('68209cf0a88a212cf10f5e10'), ObjectId('68209cf0a88a212cf10f5e11'), ObjectId('68209cf0a88a212cf10f5e12'), ObjectId('68209cf0a88a212cf10f5e13'), ObjectId('68209cf0a88a212cf10f5e14'), ObjectId('68209cf0a88a212cf10f5e15'), ObjectId('68209cf0a88a212cf10f5e16'), ObjectId('68209cf0a88a212cf10f5e17'), ObjectId('68209cf0a88a212cf10f5e18'), ObjectId('68209cf0a88a212cf10f5e19'), ObjectId('68209cf0a88a212cf10f5e1a'), ObjectId('68209cf0a88a212cf10f5e1b'), ObjectId('68209cf0a88a212cf10f5e1c'), ObjectId('68209cf0a88a212cf10f5e1d'), ObjectId('68209cf0a88a212cf10f5e1e'), ObjectId('68209cf0a88a212cf10f5e1f'), ObjectId('68209cf0a88a212cf10f5e20'), ObjectId('68209cf0a88a212cf10f5e21'), ObjectId('68209cf0a88a212cf10f5e22'), ObjectId('68209cf0a88a212cf10f5e23'), ObjectId('68209cf0a88a212cf10f5e24'), ObjectId('68209cf0a88a212cf10f5e25'), ObjectId('68209cf0a88a212cf10f5e26'), ObjectId('68209cf0a88a212cf10f5e27'), ObjectId('68209cf0a88a212cf10f5e28'), ObjectId('68209cf0a88a212cf10f5e29'), ObjectId('68209cf0a88a212cf10f5e2a'), ObjectId('68209cf0a88a212cf10f5e2b'), ObjectId('68209cf0a88a212cf10f5e2c'), ObjectId('68209cf0a88a212cf10f5e2d'), ObjectId('68209cf0a88a212cf10f5e2e'), ObjectId('68209cf0a88a212cf10f5e2f'), ObjectId('68209cf0a88a212cf10f5e30'), ObjectId('68209cf0a88a212cf10f5e31'), ObjectId('68209cf0a88a212cf10f5e32'), ObjectId('68209cf0a88a212cf10f5e33'), ObjectId('68209cf0a88a212cf10f5e34'), ObjectId('68209cf0a88a212cf10f5e35'), ObjectId('68209cf0a88a212cf10f5e36'), ObjectId('68209cf0a88a212cf10f5e37'), ObjectId('68209cf0a88a212cf10f5e38'), ObjectId('68209cf0a88a212cf10f5e39'), ObjectId('68209cf0a88a212cf10f5e3a'), ObjectId('68209cf0a88a212cf10f5e3b'), ObjectId('68209cf0a88a212cf10f5e3c'), ObjectId('68209cf0a88a212cf10f5e3d'), ObjectId('68209cf0a88a212cf10f5e3e'), ObjectId('68209cf0a88a212cf10f5e3f'), ObjectId('68209cf0a88a212cf10f5e40'), ObjectId('68209cf0a88a212cf10f5e41'), ObjectId('68209cf0a88a212cf10f5e42'), ObjectId('68209cf0a88a212cf10f5e43'), ObjectId('68209cf0a88a212cf10f5e44'), ObjectId('68209cf0a88a212cf10f5e45'), ObjectId('68209cf0a88a212cf10f5e46'), ObjectId('68209cf0a88a212cf10f5e47'), ObjectId('68209cf0a88a212cf10f5e48'), ObjectId('68209cf0a88a212cf10f5e49'), ObjectId('68209cf0a88a212cf10f5e4a'), ObjectId('68209cf0a88a212cf10f5e4b'), ObjectId('68209cf0a88a212cf10f5e4c'), ObjectId('68209cf0a88a212cf10f5e4d'), ObjectId('68209cf0a88a212cf10f5e4e'), ObjectId('68209cf0a88a212cf10f5e4f'), ObjectId('68209cf0a88a212cf10f5e50'), ObjectId('68209cf0a88a212cf10f5e51'), ObjectId('68209cf0a88a212cf10f5e52'), ObjectId('68209cf0a88a212cf10f5e53'), ObjectId('68209cf0a88a212cf10f5e54'), ObjectId('68209cf0a88a212cf10f5e55'), ObjectId('68209cf0a88a212cf10f5e56'), ObjectId('68209cf0a88a212cf10f5e57'), ObjectId('68209cf0a88a212cf10f5e58'), ObjectId('68209cf0a88a212cf10f5e59'), ObjectId('68209cf0a88a212cf10f5e5a'), ObjectId('68209cf0a88a212cf10f5e5b'), ObjectId('68209cf0a88a212cf10f5e5c'), ObjectId('68209cf0a88a212cf10f5e5d'), ObjectId('68209cf0a88a212cf10f5e5e'), ObjectId('68209cf0a88a212cf10f5e5f'), ObjectId('68209cf0a88a212cf10f5e60'), ObjectId('68209cf0a88a212cf10f5e61'), ObjectId('68209cf0a88a212cf10f5e62'), ObjectId('68209cf0a88a212cf10f5e63'), ObjectId('68209cf0a88a212cf10f5e64'), ObjectId('68209cf0a88a212cf10f5e65'), ObjectId('68209cf0a88a212cf10f5e66'), ObjectId('68209cf0a88a212cf10f5e67'), ObjectId('68209cf0a88a212cf10f5e68'), ObjectId('68209cf0a88a212cf10f5e69'), ObjectId('68209cf0a88a212cf10f5e6a'), ObjectId('68209cf0a88a212cf10f5e6b'), ObjectId('68209cf0a88a212cf10f5e6c'), ObjectId('68209cf0a88a212cf10f5e6d'), ObjectId('68209cf0a88a212cf10f5e6e'), ObjectId('68209cf0a88a212cf10f5e6f'), ObjectId('68209cf0a88a212cf10f5e70'), ObjectId('68209cf0a88a212cf10f5e71'), ObjectId('68209cf0a88a212cf10f5e72'), ObjectId('68209cf0a88a212cf10f5e73'), ObjectId('68209cf0a88a212cf10f5e74'), ObjectId('68209cf0a88a212cf10f5e75'), ObjectId('68209cf0a88a212cf10f5e76'), ObjectId('68209cf0a88a212cf10f5e77'), ObjectId('68209cf0a88a212cf10f5e78'), ObjectId('68209cf0a88a212cf10f5e79'), ObjectId('68209cf0a88a212cf10f5e7a'), ObjectId('68209cf0a88a212cf10f5e7b'), ObjectId('68209cf0a88a212cf10f5e7c'), ObjectId('68209cf0a88a212cf10f5e7d'), ObjectId('68209cf0a88a212cf10f5e7e'), ObjectId('68209cf0a88a212cf10f5e7f'), ObjectId('68209cf0a88a212cf10f5e80'), ObjectId('68209cf0a88a212cf10f5e81'), ObjectId('68209cf0a88a212cf10f5e82'), ObjectId('68209cf0a88a212cf10f5e83'), ObjectId('68209cf0a88a212cf10f5e84'), ObjectId('68209cf0a88a212cf10f5e85'), ObjectId('68209cf0a88a212cf10f5e86'), ObjectId('68209cf0a88a212cf10f5e87'), ObjectId('68209cf0a88a212cf10f5e88'), ObjectId('68209cf0a88a212cf10f5e89'), ObjectId('68209cf0a88a212cf10f5e8a'), ObjectId('68209cf0a88a212cf10f5e8b'), ObjectId('68209cf0a88a212cf10f5e8c'), ObjectId('68209cf0a88a212cf10f5e8d'), ObjectId('68209cf0a88a212cf10f5e8e'), ObjectId('68209cf0a88a212cf10f5e8f'), ObjectId('68209cf0a88a212cf10f5e90'), ObjectId('68209cf0a88a212cf10f5e91'), ObjectId('68209cf0a88a212cf10f5e92'), ObjectId('68209cf0a88a212cf10f5e93'), ObjectId('68209cf0a88a212cf10f5e94'), ObjectId('68209cf0a88a212cf10f5e95'), ObjectId('68209cf0a88a212cf10f5e96'), ObjectId('68209cf0a88a212cf10f5e97'), ObjectId('68209cf0a88a212cf10f5e98'), ObjectId('68209cf0a88a212cf10f5e99'), ObjectId('68209cf0a88a212cf10f5e9a'), ObjectId('68209cf0a88a212cf10f5e9b'), ObjectId('68209cf0a88a212cf10f5e9c'), ObjectId('68209cf0a88a212cf10f5e9d'), ObjectId('68209cf0a88a212cf10f5e9e'), ObjectId('68209cf0a88a212cf10f5e9f'), ObjectId('68209cf0a88a212cf10f5ea0'), ObjectId('68209cf0a88a212cf10f5ea1'), ObjectId('68209cf0a88a212cf10f5ea2'), ObjectId('68209cf0a88a212cf10f5ea3'), ObjectId('68209cf0a88a212cf10f5ea4'), ObjectId('68209cf0a88a212cf10f5ea5'), ObjectId('68209cf0a88a212cf10f5ea6'), ObjectId('68209cf0a88a212cf10f5ea7'), ObjectId('68209cf0a88a212cf10f5ea8'), ObjectId('68209cf0a88a212cf10f5ea9'), ObjectId('68209cf0a88a212cf10f5eaa'), ObjectId('68209cf0a88a212cf10f5eab'), ObjectId('68209cf0a88a212cf10f5eac'), ObjectId('68209cf0a88a212cf10f5ead'), ObjectId('68209cf0a88a212cf10f5eae'), ObjectId('68209cf0a88a212cf10f5eaf'), ObjectId('68209cf0a88a212cf10f5eb0'), ObjectId('68209cf0a88a212cf10f5eb1'), ObjectId('68209cf0a88a212cf10f5eb2'), ObjectId('68209cf0a88a212cf10f5eb3'), ObjectId('68209cf0a88a212cf10f5eb4'), ObjectId('68209cf0a88a212cf10f5eb5'), ObjectId('68209cf0a88a212cf10f5eb6'), ObjectId('68209cf0a88a212cf10f5eb7'), ObjectId('68209cf0a88a212cf10f5eb8'), ObjectId('68209cf0a88a212cf10f5eb9'), ObjectId('68209cf0a88a212cf10f5eba'), ObjectId('68209cf0a88a212cf10f5ebb'), ObjectId('68209cf0a88a212cf10f5ebc'), ObjectId('68209cf0a88a212cf10f5ebd'), ObjectId('68209cf0a88a212cf10f5ebe'), ObjectId('68209cf0a88a212cf10f5ebf'), ObjectId('68209cf0a88a212cf10f5ec0'), ObjectId('68209cf0a88a212cf10f5ec1'), ObjectId('68209cf0a88a212cf10f5ec2'), ObjectId('68209cf0a88a212cf10f5ec3'), ObjectId('68209cf0a88a212cf10f5ec4'), ObjectId('68209cf0a88a212cf10f5ec5'), ObjectId('68209cf0a88a212cf10f5ec6'), ObjectId('68209cf0a88a212cf10f5ec7'), ObjectId('68209cf0a88a212cf10f5ec8'), ObjectId('68209cf0a88a212cf10f5ec9'), ObjectId('68209cf0a88a212cf10f5eca'), ObjectId('68209cf0a88a212cf10f5ecb'), ObjectId('68209cf0a88a212cf10f5ecc'), ObjectId('68209cf0a88a212cf10f5ecd'), ObjectId('68209cf0a88a212cf10f5ece'), ObjectId('68209cf0a88a212cf10f5ecf'), ObjectId('68209cf0a88a212cf10f5ed0'), ObjectId('68209cf0a88a212cf10f5ed1'), ObjectId('68209cf0a88a212cf10f5ed2'), ObjectId('68209cf0a88a212cf10f5ed3'), ObjectId('68209cf0a88a212cf10f5ed4'), ObjectId('68209cf0a88a212cf10f5ed5'), ObjectId('68209cf0a88a212cf10f5ed6'), ObjectId('68209cf0a88a212cf10f5ed7'), ObjectId('68209cf0a88a212cf10f5ed8'), ObjectId('68209cf0a88a212cf10f5ed9'), ObjectId('68209cf0a88a212cf10f5eda'), ObjectId('68209cf0a88a212cf10f5edb'), ObjectId('68209cf0a88a212cf10f5edc'), ObjectId('68209cf0a88a212cf10f5edd'), ObjectId('68209cf0a88a212cf10f5ede'), ObjectId('68209cf0a88a212cf10f5edf'), ObjectId('68209cf0a88a212cf10f5ee0'), ObjectId('68209cf0a88a212cf10f5ee1'), ObjectId('68209cf0a88a212cf10f5ee2'), ObjectId('68209cf0a88a212cf10f5ee3'), ObjectId('68209cf0a88a212cf10f5ee4'), ObjectId('68209cf0a88a212cf10f5ee5'), ObjectId('68209cf0a88a212cf10f5ee6'), ObjectId('68209cf0a88a212cf10f5ee7'), ObjectId('68209cf0a88a212cf10f5ee8'), ObjectId('68209cf0a88a212cf10f5ee9'), ObjectId('68209cf0a88a212cf10f5eea'), ObjectId('68209cf0a88a212cf10f5eeb'), ObjectId('68209cf0a88a212cf10f5eec'), ObjectId('68209cf0a88a212cf10f5eed'), ObjectId('68209cf0a88a212cf10f5eee'), ObjectId('68209cf0a88a212cf10f5eef'), ObjectId('68209cf0a88a212cf10f5ef0'), ObjectId('68209cf0a88a212cf10f5ef1'), ObjectId('68209cf0a88a212cf10f5ef2'), ObjectId('68209cf0a88a212cf10f5ef3'), ObjectId('68209cf0a88a212cf10f5ef4'), ObjectId('68209cf0a88a212cf10f5ef5'), ObjectId('68209cf0a88a212cf10f5ef6'), ObjectId('68209cf0a88a212cf10f5ef7'), ObjectId('68209cf0a88a212cf10f5ef8'), ObjectId('68209cf0a88a212cf10f5ef9'), ObjectId('68209cf0a88a212cf10f5efa'), ObjectId('68209cf0a88a212cf10f5efb'), ObjectId('68209cf0a88a212cf10f5efc'), ObjectId('68209cf0a88a212cf10f5efd'), ObjectId('68209cf0a88a212cf10f5efe'), ObjectId('68209cf0a88a212cf10f5eff'), ObjectId('68209cf0a88a212cf10f5f00'), ObjectId('68209cf0a88a212cf10f5f01'), ObjectId('68209cf0a88a212cf10f5f02'), ObjectId('68209cf0a88a212cf10f5f03'), ObjectId('68209cf0a88a212cf10f5f04'), ObjectId('68209cf0a88a212cf10f5f05'), ObjectId('68209cf0a88a212cf10f5f06'), ObjectId('68209cf0a88a212cf10f5f07'), ObjectId('68209cf0a88a212cf10f5f08'), ObjectId('68209cf0a88a212cf10f5f09'), ObjectId('68209cf0a88a212cf10f5f0a'), ObjectId('68209cf0a88a212cf10f5f0b'), ObjectId('68209cf0a88a212cf10f5f0c'), ObjectId('68209cf0a88a212cf10f5f0d'), ObjectId('68209cf0a88a212cf10f5f0e'), ObjectId('68209cf0a88a212cf10f5f0f'), ObjectId('68209cf0a88a212cf10f5f10'), ObjectId('68209cf0a88a212cf10f5f11'), ObjectId('68209cf0a88a212cf10f5f12'), ObjectId('68209cf0a88a212cf10f5f13'), ObjectId('68209cf0a88a212cf10f5f14'), ObjectId('68209cf0a88a212cf10f5f15'), ObjectId('68209cf0a88a212cf10f5f16'), ObjectId('68209cf0a88a212cf10f5f17'), ObjectId('68209cf0a88a212cf10f5f18'), ObjectId('68209cf0a88a212cf10f5f19'), ObjectId('68209cf0a88a212cf10f5f1a'), ObjectId('68209cf0a88a212cf10f5f1b'), ObjectId('68209cf0a88a212cf10f5f1c'), ObjectId('68209cf0a88a212cf10f5f1d'), ObjectId('68209cf0a88a212cf10f5f1e'), ObjectId('68209cf0a88a212cf10f5f1f'), ObjectId('68209cf0a88a212cf10f5f20'), ObjectId('68209cf0a88a212cf10f5f21'), ObjectId('68209cf0a88a212cf10f5f22'), ObjectId('68209cf0a88a212cf10f5f23'), ObjectId('68209cf0a88a212cf10f5f24'), ObjectId('68209cf0a88a212cf10f5f25'), ObjectId('68209cf0a88a212cf10f5f26'), ObjectId('68209cf0a88a212cf10f5f27'), ObjectId('68209cf0a88a212cf10f5f28'), ObjectId('68209cf0a88a212cf10f5f29'), ObjectId('68209cf0a88a212cf10f5f2a'), ObjectId('68209cf0a88a212cf10f5f2b'), ObjectId('68209cf0a88a212cf10f5f2c'), ObjectId('68209cf0a88a212cf10f5f2d'), ObjectId('68209cf0a88a212cf10f5f2e'), ObjectId('68209cf0a88a212cf10f5f2f'), ObjectId('68209cf0a88a212cf10f5f30'), ObjectId('68209cf0a88a212cf10f5f31'), ObjectId('68209cf0a88a212cf10f5f32'), ObjectId('68209cf0a88a212cf10f5f33'), ObjectId('68209cf0a88a212cf10f5f34'), ObjectId('68209cf0a88a212cf10f5f35'), ObjectId('68209cf0a88a212cf10f5f36'), ObjectId('68209cf0a88a212cf10f5f37'), ObjectId('68209cf0a88a212cf10f5f38'), ObjectId('68209cf0a88a212cf10f5f39'), ObjectId('68209cf0a88a212cf10f5f3a'), ObjectId('68209cf0a88a212cf10f5f3b'), ObjectId('68209cf0a88a212cf10f5f3c'), ObjectId('68209cf0a88a212cf10f5f3d'), ObjectId('68209cf0a88a212cf10f5f3e'), ObjectId('68209cf0a88a212cf10f5f3f'), ObjectId('68209cf0a88a212cf10f5f40'), ObjectId('68209cf0a88a212cf10f5f41'), ObjectId('68209cf0a88a212cf10f5f42'), ObjectId('68209cf0a88a212cf10f5f43'), ObjectId('68209cf0a88a212cf10f5f44'), ObjectId('68209cf0a88a212cf10f5f45'), ObjectId('68209cf0a88a212cf10f5f46'), ObjectId('68209cf0a88a212cf10f5f47'), ObjectId('68209cf0a88a212cf10f5f48'), ObjectId('68209cf0a88a212cf10f5f49'), ObjectId('68209cf0a88a212cf10f5f4a'), ObjectId('68209cf0a88a212cf10f5f4b'), ObjectId('68209cf0a88a212cf10f5f4c'), ObjectId('68209cf0a88a212cf10f5f4d'), ObjectId('68209cf0a88a212cf10f5f4e'), ObjectId('68209cf0a88a212cf10f5f4f'), ObjectId('68209cf0a88a212cf10f5f50'), ObjectId('68209cf0a88a212cf10f5f51'), ObjectId('68209cf0a88a212cf10f5f52'), ObjectId('68209cf0a88a212cf10f5f53'), ObjectId('68209cf0a88a212cf10f5f54'), ObjectId('68209cf0a88a212cf10f5f55'), ObjectId('68209cf0a88a212cf10f5f56'), ObjectId('68209cf0a88a212cf10f5f57'), ObjectId('68209cf0a88a212cf10f5f58'), ObjectId('68209cf0a88a212cf10f5f59'), ObjectId('68209cf0a88a212cf10f5f5a'), ObjectId('68209cf0a88a212cf10f5f5b'), ObjectId('68209cf0a88a212cf10f5f5c'), ObjectId('68209cf0a88a212cf10f5f5d')], acknowledged=True)"
      ]
     },
     "execution_count": 9,
     "metadata": {},
     "output_type": "execute_result"
    }
   ],
   "source": [
    "product_collection.insert_many(productlist)"
   ]
  },
  {
   "cell_type": "markdown",
   "id": "4a468601-3121-45a7-b490-d80c45c48ef0",
   "metadata": {},
   "source": [
    "Determine the number of products that have a rating of 5."
   ]
  },
  {
   "cell_type": "code",
   "execution_count": 10,
   "id": "bb31e9fa-7175-436f-a89e-abd53ef48687",
   "metadata": {
    "scrolled": true
   },
   "outputs": [
    {
     "data": {
      "text/plain": [
       "204"
      ]
     },
     "execution_count": 10,
     "metadata": {},
     "output_type": "execute_result"
    }
   ],
   "source": [
    "product_collection.count_documents({'rating': 5})"
   ]
  },
  {
   "cell_type": "markdown",
   "id": "b916bc52-69ee-41e9-8544-dcb6c6945fae",
   "metadata": {},
   "source": [
    "Determine the brands that have at least one product of rating 5."
   ]
  },
  {
   "cell_type": "code",
   "execution_count": 11,
   "id": "1c923289-bddc-43e7-a6b7-ffde2d5bb432",
   "metadata": {},
   "outputs": [
    {
     "data": {
      "text/plain": [
       "['Bosch',\n",
       " 'Electrolux',\n",
       " 'Haier',\n",
       " 'LG',\n",
       " 'Samsung',\n",
       " 'Siemens',\n",
       " 'Videocon',\n",
       " 'Whirlpool']"
      ]
     },
     "execution_count": 11,
     "metadata": {},
     "output_type": "execute_result"
    }
   ],
   "source": [
    "product_collection.find({'rating': 5}).distinct('brand')"
   ]
  },
  {
   "cell_type": "markdown",
   "id": "86c7d3bf-401b-4c33-ae0b-9ba18df99b46",
   "metadata": {},
   "source": [
    "Query to findout which brand has got maximum 5/5 rating we need to use aggregation pipeline"
   ]
  },
  {
   "cell_type": "code",
   "execution_count": 12,
   "id": "1c44a99c-1489-4460-97b2-bdd7ccaec918",
   "metadata": {},
   "outputs": [],
   "source": [
    "pipeline = [\n",
    "    {\n",
    "        '$match': {\n",
    "            \"rating\": {\"$in\": [3, 4]}\n",
    "        }\n",
    "    },\n",
    "    {\n",
    "        \"$group\": {\n",
    "            \"_id\": [\"$brand\", \"$name\", \"$rating\"],\n",
    "            \"count\": {\"$sum\": 1}\n",
    "        }\n",
    "    },\n",
    "    {\n",
    "        \"$sort\": SON([(\"count\", -1), \n",
    "                      (\"_id\", -1)])\n",
    "    }\n",
    "]"
   ]
  },
  {
   "cell_type": "code",
   "execution_count": 13,
   "id": "ab9f506f-c820-445f-9c30-73cff0558b0b",
   "metadata": {
    "scrolled": true
   },
   "outputs": [
    {
     "name": "stdout",
     "output_type": "stream",
     "text": [
      "[{'_id': ['Electrolux', 'Mobile', 4], 'count': 9},\n",
      " {'_id': ['Haier', 'AC', 4], 'count': 9},\n",
      " {'_id': ['Haier', 'Washing machine', 4], 'count': 8},\n",
      " {'_id': ['Videocon', 'Washing machine', 3], 'count': 8},\n",
      " {'_id': ['LG', 'AC', 3], 'count': 8},\n",
      " {'_id': ['Videocon', 'AC', 4], 'count': 7},\n",
      " {'_id': ['Haier', 'Microwave Oven', 3], 'count': 7},\n",
      " {'_id': ['Bosch', 'Induction cooker', 4], 'count': 7},\n",
      " {'_id': ['Electrolux', 'AC', 4], 'count': 7},\n",
      " {'_id': ['Whirlpool', 'AC', 3], 'count': 6},\n",
      " {'_id': ['Videocon', 'TV', 4], 'count': 6},\n",
      " {'_id': ['Videocon', 'Induction cooker', 3], 'count': 6},\n",
      " {'_id': ['LG', 'TV', 3], 'count': 6},\n",
      " {'_id': ['Samsung', 'Induction cooker', 4], 'count': 6},\n",
      " {'_id': ['Electrolux', 'Refrigerator', 4], 'count': 6},\n",
      " {'_id': ['Haier', 'Mobile', 4], 'count': 6},\n",
      " {'_id': ['Bosch', 'Mobile', 3], 'count': 6},\n",
      " {'_id': ['LG', 'Mobile', 4], 'count': 6},\n",
      " {'_id': ['Haier', 'Induction cooker', 4], 'count': 6},\n",
      " {'_id': ['Electrolux', 'Induction cooker', 3], 'count': 6},\n",
      " {'_id': ['Whirlpool', 'Induction cooker', 4], 'count': 5},\n",
      " {'_id': ['Whirlpool', 'Induction cooker', 3], 'count': 5},\n",
      " {'_id': ['Whirlpool', 'Mobile', 4], 'count': 5},\n",
      " {'_id': ['Siemens', 'Washing machine', 4], 'count': 5},\n",
      " {'_id': ['Bosch', 'Washing machine', 3], 'count': 5},\n",
      " {'_id': ['Samsung', 'Washing machine', 3], 'count': 5},\n",
      " {'_id': ['Videocon', 'Induction cooker', 4], 'count': 5},\n",
      " {'_id': ['Videocon', 'Refrigerator', 4], 'count': 5},\n",
      " {'_id': ['Samsung', 'TV', 4], 'count': 5},\n",
      " {'_id': ['Siemens', 'Induction cooker', 4], 'count': 5},\n",
      " {'_id': ['Samsung', 'Microwave Oven', 3], 'count': 5},\n",
      " {'_id': ['Samsung', 'Microwave Oven', 4], 'count': 5},\n",
      " {'_id': ['LG', 'Mobile', 3], 'count': 5},\n",
      " {'_id': ['Bosch', 'Microwave Oven', 3], 'count': 5},\n",
      " {'_id': ['LG', 'Induction cooker', 4], 'count': 5},\n",
      " {'_id': ['Whirlpool', 'Refrigerator', 3], 'count': 4},\n",
      " {'_id': ['Whirlpool', 'TV', 3], 'count': 4},\n",
      " {'_id': ['Videocon', 'Washing machine', 4], 'count': 4},\n",
      " {'_id': ['Electrolux', 'Washing machine', 4], 'count': 4},\n",
      " {'_id': ['Haier', 'Washing machine', 3], 'count': 4},\n",
      " {'_id': ['Samsung', 'Washing machine', 4], 'count': 4},\n",
      " {'_id': ['Videocon', 'Mobile', 3], 'count': 4},\n",
      " {'_id': ['Videocon', 'Refrigerator', 3], 'count': 4},\n",
      " {'_id': ['LG', 'TV', 4], 'count': 4},\n",
      " {'_id': ['Haier', 'TV', 3], 'count': 4},\n",
      " {'_id': ['Siemens', 'TV', 4], 'count': 4},\n",
      " {'_id': ['Siemens', 'TV', 3], 'count': 4},\n",
      " {'_id': ['Siemens', 'AC', 4], 'count': 4},\n",
      " {'_id': ['Siemens', 'Refrigerator', 3], 'count': 4},\n",
      " {'_id': ['Siemens', 'Mobile', 3], 'count': 4},\n",
      " {'_id': ['Bosch', 'Mobile', 4], 'count': 4},\n",
      " {'_id': ['Haier', 'Microwave Oven', 4], 'count': 4},\n",
      " {'_id': ['LG', 'Induction cooker', 3], 'count': 4},\n",
      " {'_id': ['Electrolux', 'AC', 3], 'count': 4},\n",
      " {'_id': ['Whirlpool', 'Mobile', 3], 'count': 3},\n",
      " {'_id': ['Whirlpool', 'Washing machine', 3], 'count': 3},\n",
      " {'_id': ['Whirlpool', 'Washing machine', 4], 'count': 3},\n",
      " {'_id': ['Whirlpool', 'Microwave Oven', 4], 'count': 3},\n",
      " {'_id': ['Bosch', 'Washing machine', 4], 'count': 3},\n",
      " {'_id': ['LG', 'Washing machine', 4], 'count': 3},\n",
      " {'_id': ['Videocon', 'Microwave Oven', 3], 'count': 3},\n",
      " {'_id': ['Bosch', 'TV', 4], 'count': 3},\n",
      " {'_id': ['Bosch', 'TV', 3], 'count': 3},\n",
      " {'_id': ['Siemens', 'Induction cooker', 3], 'count': 3},\n",
      " {'_id': ['Siemens', 'AC', 3], 'count': 3},\n",
      " {'_id': ['Siemens', 'Microwave Oven', 3], 'count': 3},\n",
      " {'_id': ['Samsung', 'Refrigerator', 3], 'count': 3},\n",
      " {'_id': ['Samsung', 'Refrigerator', 4], 'count': 3},\n",
      " {'_id': ['Samsung', 'Mobile', 3], 'count': 3},\n",
      " {'_id': ['Samsung', 'AC', 3], 'count': 3},\n",
      " {'_id': ['Electrolux', 'Refrigerator', 3], 'count': 3},\n",
      " {'_id': ['Haier', 'Refrigerator', 4], 'count': 3},\n",
      " {'_id': ['LG', 'Microwave Oven', 4], 'count': 3},\n",
      " {'_id': ['LG', 'AC', 4], 'count': 3},\n",
      " {'_id': ['Electrolux', 'Induction cooker', 4], 'count': 3},\n",
      " {'_id': ['Bosch', 'Induction cooker', 3], 'count': 3},\n",
      " {'_id': ['Haier', 'AC', 3], 'count': 3},\n",
      " {'_id': ['Whirlpool', 'TV', 4], 'count': 2},\n",
      " {'_id': ['Siemens', 'Washing machine', 3], 'count': 2},\n",
      " {'_id': ['Electrolux', 'Washing machine', 3], 'count': 2},\n",
      " {'_id': ['LG', 'Washing machine', 3], 'count': 2},\n",
      " {'_id': ['Videocon', 'TV', 3], 'count': 2},\n",
      " {'_id': ['Videocon', 'Microwave Oven', 4], 'count': 2},\n",
      " {'_id': ['Samsung', 'TV', 3], 'count': 2},\n",
      " {'_id': ['Haier', 'TV', 4], 'count': 2},\n",
      " {'_id': ['Samsung', 'Mobile', 4], 'count': 2},\n",
      " {'_id': ['Haier', 'Refrigerator', 3], 'count': 2},\n",
      " {'_id': ['Bosch', 'Refrigerator', 4], 'count': 2},\n",
      " {'_id': ['LG', 'Refrigerator', 3], 'count': 2},\n",
      " {'_id': ['LG', 'Refrigerator', 4], 'count': 2},\n",
      " {'_id': ['Haier', 'Mobile', 3], 'count': 2},\n",
      " {'_id': ['Electrolux', 'Mobile', 3], 'count': 2},\n",
      " {'_id': ['Bosch', 'Microwave Oven', 4], 'count': 2},\n",
      " {'_id': ['Haier', 'Induction cooker', 3], 'count': 2},\n",
      " {'_id': ['Bosch', 'AC', 3], 'count': 2},\n",
      " {'_id': ['Bosch', 'AC', 4], 'count': 2},\n",
      " {'_id': ['Whirlpool', 'Refrigerator', 4], 'count': 1},\n",
      " {'_id': ['Whirlpool', 'AC', 4], 'count': 1},\n",
      " {'_id': ['Videocon', 'Mobile', 4], 'count': 1},\n",
      " {'_id': ['Videocon', 'AC', 3], 'count': 1},\n",
      " {'_id': ['Electrolux', 'TV', 4], 'count': 1},\n",
      " {'_id': ['Electrolux', 'TV', 3], 'count': 1},\n",
      " {'_id': ['Siemens', 'Mobile', 4], 'count': 1},\n",
      " {'_id': ['Siemens', 'Microwave Oven', 4], 'count': 1},\n",
      " {'_id': ['Samsung', 'Induction cooker', 3], 'count': 1},\n",
      " {'_id': ['Samsung', 'AC', 4], 'count': 1},\n",
      " {'_id': ['Electrolux', 'Microwave Oven', 4], 'count': 1},\n",
      " {'_id': ['LG', 'Microwave Oven', 3], 'count': 1},\n",
      " {'_id': ['Electrolux', 'Microwave Oven', 3], 'count': 1}]\n"
     ]
    }
   ],
   "source": [
    "pprint(list(product_collection.aggregate(pipeline)))"
   ]
  },
  {
   "cell_type": "markdown",
   "id": "32830e61-0bb5-4409-ba9c-d8519f5b1e0c",
   "metadata": {},
   "source": [
    "## Optional (Delete the data created.)"
   ]
  },
  {
   "cell_type": "code",
   "execution_count": 14,
   "id": "e61f8414-dfd8-416b-a8f0-cb2c8be14bc3",
   "metadata": {},
   "outputs": [
    {
     "data": {
      "text/plain": [
       "['admin',\n",
       " 'config',\n",
       " 'local',\n",
       " 'movielens',\n",
       " 'pes',\n",
       " 'products',\n",
       " 'salesdb',\n",
       " 'store']"
      ]
     },
     "execution_count": 14,
     "metadata": {},
     "output_type": "execute_result"
    }
   ],
   "source": [
    "client.list_database_names()"
   ]
  },
  {
   "cell_type": "code",
   "execution_count": 15,
   "id": "10126d97-ca3c-49cf-b96a-ee8d6b40c06c",
   "metadata": {},
   "outputs": [
    {
     "data": {
      "text/plain": [
       "{'nIndexesWas': 1, 'ns': 'products.product_feedback', 'ok': 1.0}"
      ]
     },
     "execution_count": 15,
     "metadata": {},
     "output_type": "execute_result"
    }
   ],
   "source": [
    "products_db.drop_collection(name_or_collection='product_feedback')"
   ]
  },
  {
   "cell_type": "code",
   "execution_count": 16,
   "id": "8c1f87c4-b38e-4246-9771-87465912a658",
   "metadata": {},
   "outputs": [],
   "source": [
    "client.drop_database(name_or_database='products')"
   ]
  },
  {
   "cell_type": "code",
   "execution_count": 17,
   "id": "af391bef-fa17-4016-a994-ca2dd0753d2c",
   "metadata": {},
   "outputs": [
    {
     "data": {
      "text/plain": [
       "['admin', 'config', 'local', 'movielens', 'pes', 'salesdb', 'store']"
      ]
     },
     "execution_count": 17,
     "metadata": {},
     "output_type": "execute_result"
    }
   ],
   "source": [
    "client.list_database_names()"
   ]
  },
  {
   "cell_type": "code",
   "execution_count": null,
   "id": "b8a66843-1f0b-4706-898d-65b431c035fd",
   "metadata": {},
   "outputs": [],
   "source": []
  }
 ],
 "metadata": {
  "kernelspec": {
   "display_name": "Python 3 (ipykernel)",
   "language": "python",
   "name": "python3"
  },
  "language_info": {
   "codemirror_mode": {
    "name": "ipython",
    "version": 3
   },
   "file_extension": ".py",
   "mimetype": "text/x-python",
   "name": "python",
   "nbconvert_exporter": "python",
   "pygments_lexer": "ipython3",
   "version": "3.11.7"
  }
 },
 "nbformat": 4,
 "nbformat_minor": 5
}
