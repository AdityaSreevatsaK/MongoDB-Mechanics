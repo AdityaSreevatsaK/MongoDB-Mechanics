{
 "cells": [
  {
   "cell_type": "code",
   "execution_count": 1,
   "id": "c882a446-d1ab-41c6-9ae6-ec2562f0ee8d",
   "metadata": {},
   "outputs": [],
   "source": [
    "from pymongo import MongoClient\n",
    "from pprint import pprint"
   ]
  },
  {
   "cell_type": "markdown",
   "id": "38d0d7d8-2478-4408-a754-ec51986f0135",
   "metadata": {},
   "source": [
    "# Connection"
   ]
  },
  {
   "cell_type": "code",
   "execution_count": 2,
   "id": "6fb6828f-7721-49d8-975d-770e7fcaad1b",
   "metadata": {},
   "outputs": [],
   "source": [
    "client = MongoClient(port=27017)"
   ]
  },
  {
   "cell_type": "code",
   "execution_count": 3,
   "id": "4d4779f1-49b9-438d-9fa6-68f62e98db52",
   "metadata": {},
   "outputs": [
    {
     "data": {
      "text/plain": [
       "MongoClient(host=['localhost:27017'], document_class=dict, tz_aware=False, connect=True)"
      ]
     },
     "execution_count": 3,
     "metadata": {},
     "output_type": "execute_result"
    }
   ],
   "source": [
    "client"
   ]
  },
  {
   "cell_type": "markdown",
   "id": "84c1c892-2132-4432-87d1-f74b19ff9db4",
   "metadata": {},
   "source": [
    "# Creation of table"
   ]
  },
  {
   "cell_type": "code",
   "execution_count": 4,
   "id": "ddc49f8c-2e02-44d1-923f-048cebcd8924",
   "metadata": {},
   "outputs": [],
   "source": [
    "# Uses db if available and creates if not available\n",
    "my_db = client['employee']"
   ]
  },
  {
   "cell_type": "code",
   "execution_count": 5,
   "id": "9e519605-6ec0-4c36-8377-c9743b45ed2b",
   "metadata": {},
   "outputs": [
    {
     "data": {
      "text/plain": [
       "Collection(Database(MongoClient(host=['localhost:27017'], document_class=dict, tz_aware=False, connect=True), 'employee'), 'employee_information')"
      ]
     },
     "execution_count": 5,
     "metadata": {},
     "output_type": "execute_result"
    }
   ],
   "source": [
    "# Refers to collection if present else creates it\n",
    "employee_information = my_db.employee_information\n",
    "employee_information"
   ]
  },
  {
   "cell_type": "markdown",
   "id": "1b1ce250-c750-485b-bb76-eb75313c6f5b",
   "metadata": {},
   "source": [
    "# Insert Records"
   ]
  },
  {
   "cell_type": "code",
   "execution_count": 6,
   "id": "a8c5d3ab-b3ed-4ed4-b5f6-469cbedcbaad",
   "metadata": {},
   "outputs": [],
   "source": [
    "record = {\n",
    "        'firstname':'A',\n",
    "        'lastname':'B',\n",
    "        'department':'Analytics',\n",
    "        'qualification':'master',\n",
    "        'age': 42\n",
    "        }"
   ]
  },
  {
   "cell_type": "code",
   "execution_count": 7,
   "id": "aa8e5f2d-4d23-4a70-b702-8439ecfbc53d",
   "metadata": {},
   "outputs": [
    {
     "data": {
      "text/plain": [
       "InsertOneResult(ObjectId('681ef4837a21e98e20cbce4e'), acknowledged=True)"
      ]
     },
     "execution_count": 7,
     "metadata": {},
     "output_type": "execute_result"
    }
   ],
   "source": [
    "employee_information.insert_one(record)"
   ]
  },
  {
   "cell_type": "code",
   "execution_count": 8,
   "id": "60547c80-8bda-4761-b98b-ae24dee42da4",
   "metadata": {},
   "outputs": [
    {
     "data": {
      "text/plain": [
       "<pymongo.synchronous.cursor.Cursor at 0x2bf364cbf90>"
      ]
     },
     "execution_count": 8,
     "metadata": {},
     "output_type": "execute_result"
    }
   ],
   "source": [
    "my_db.employee_information.find({})"
   ]
  },
  {
   "cell_type": "code",
   "execution_count": 9,
   "id": "467f82cd-73c5-44cb-ab8f-36d9fc69ae86",
   "metadata": {},
   "outputs": [],
   "source": [
    "records = [\n",
    "  {\n",
    "    'firstname': 'John',\n",
    "    'lastname': 'Doe',\n",
    "    'department': 'Analytics',\n",
    "    'qualification': 'statistics',\n",
    "    'age': 35\n",
    "  },\n",
    "  {\n",
    "    'firstname': 'John ',\n",
    "    'lastname': 'Smith',\n",
    "    'department': 'Analytics',\n",
    "    'qualification': 'master',\n",
    "    'age': 30\n",
    "  },\n",
    "  {\n",
    "    'firstname': 'Manish',\n",
    "    'lastname': 'Sen',\n",
    "    'department': 'Analytics',\n",
    "    'qualification': 'phd',\n",
    "    'age': 34\n",
    "  },\n",
    "  {\n",
    "    'firstname': 'Ram',\n",
    "    'lastname': 'Singh',\n",
    "    'department': 'Analytics',\n",
    "    'qualification': 'master',\n",
    "    'age': 32\n",
    "  }\n",
    "]"
   ]
  },
  {
   "cell_type": "code",
   "execution_count": 10,
   "id": "8ac6b922-c5f9-403a-831e-79f6f341af48",
   "metadata": {},
   "outputs": [
    {
     "data": {
      "text/plain": [
       "InsertManyResult([ObjectId('681ef4837a21e98e20cbce4f'), ObjectId('681ef4837a21e98e20cbce50'), ObjectId('681ef4837a21e98e20cbce51'), ObjectId('681ef4837a21e98e20cbce52')], acknowledged=True)"
      ]
     },
     "execution_count": 10,
     "metadata": {},
     "output_type": "execute_result"
    }
   ],
   "source": [
    "employee_information.insert_many(records)"
   ]
  },
  {
   "cell_type": "markdown",
   "id": "357bb9a9-336f-4981-a829-8b226e5623eb",
   "metadata": {},
   "source": [
    "# Query Records"
   ]
  },
  {
   "cell_type": "code",
   "execution_count": 11,
   "id": "29495b7c-e7a3-4a2b-9435-a4270ff12a1d",
   "metadata": {},
   "outputs": [
    {
     "data": {
      "text/plain": [
       "{'_id': ObjectId('681ef4837a21e98e20cbce4e'),\n",
       " 'firstname': 'A',\n",
       " 'lastname': 'B',\n",
       " 'department': 'Analytics',\n",
       " 'qualification': 'master',\n",
       " 'age': 42}"
      ]
     },
     "execution_count": 11,
     "metadata": {},
     "output_type": "execute_result"
    }
   ],
   "source": [
    "employee_information.find_one({})"
   ]
  },
  {
   "cell_type": "code",
   "execution_count": 12,
   "id": "d43e83a5-49fe-4a08-b0ca-9c48d5285967",
   "metadata": {},
   "outputs": [
    {
     "name": "stdout",
     "output_type": "stream",
     "text": [
      "{'_id': ObjectId('681ef4837a21e98e20cbce4e'),\n",
      " 'age': 42,\n",
      " 'department': 'Analytics',\n",
      " 'firstname': 'A',\n",
      " 'lastname': 'B',\n",
      " 'qualification': 'master'}\n",
      "{'_id': ObjectId('681ef4837a21e98e20cbce4f'),\n",
      " 'age': 35,\n",
      " 'department': 'Analytics',\n",
      " 'firstname': 'John',\n",
      " 'lastname': 'Doe',\n",
      " 'qualification': 'statistics'}\n",
      "{'_id': ObjectId('681ef4837a21e98e20cbce50'),\n",
      " 'age': 30,\n",
      " 'department': 'Analytics',\n",
      " 'firstname': 'John ',\n",
      " 'lastname': 'Smith',\n",
      " 'qualification': 'master'}\n",
      "{'_id': ObjectId('681ef4837a21e98e20cbce51'),\n",
      " 'age': 34,\n",
      " 'department': 'Analytics',\n",
      " 'firstname': 'Manish',\n",
      " 'lastname': 'Sen',\n",
      " 'qualification': 'phd'}\n",
      "{'_id': ObjectId('681ef4837a21e98e20cbce52'),\n",
      " 'age': 32,\n",
      " 'department': 'Analytics',\n",
      " 'firstname': 'Ram',\n",
      " 'lastname': 'Singh',\n",
      " 'qualification': 'master'}\n"
     ]
    }
   ],
   "source": [
    "for record in employee_information.find({}):\n",
    "    pprint(record)"
   ]
  },
  {
   "cell_type": "code",
   "execution_count": 13,
   "id": "2422c554-73da-4f27-b9a3-156faed808a8",
   "metadata": {},
   "outputs": [
    {
     "name": "stdout",
     "output_type": "stream",
     "text": [
      "{'_id': ObjectId('681ef4837a21e98e20cbce4e'), 'firstname': 'A', 'lastname': 'B', 'department': 'Analytics', 'qualification': 'master', 'age': 42}\n"
     ]
    }
   ],
   "source": [
    "for record in employee_information.find({'firstname':'A'}):\n",
    "    print(record)"
   ]
  },
  {
   "cell_type": "markdown",
   "id": "27af1d29-b986-44a8-9bbd-a3d33920f564",
   "metadata": {},
   "source": [
    "## IN Operator (in)"
   ]
  },
  {
   "cell_type": "code",
   "execution_count": 14,
   "id": "e5578b5a-e689-42c5-bdfb-71af87f90ca2",
   "metadata": {},
   "outputs": [
    {
     "name": "stdout",
     "output_type": "stream",
     "text": [
      "{'_id': ObjectId('681ef4837a21e98e20cbce4e'), 'firstname': 'A', 'lastname': 'B', 'department': 'Analytics', 'qualification': 'master', 'age': 42}\n",
      "{'_id': ObjectId('681ef4837a21e98e20cbce50'), 'firstname': 'John ', 'lastname': 'Smith', 'department': 'Analytics', 'qualification': 'master', 'age': 30}\n",
      "{'_id': ObjectId('681ef4837a21e98e20cbce51'), 'firstname': 'Manish', 'lastname': 'Sen', 'department': 'Analytics', 'qualification': 'phd', 'age': 34}\n",
      "{'_id': ObjectId('681ef4837a21e98e20cbce52'), 'firstname': 'Ram', 'lastname': 'Singh', 'department': 'Analytics', 'qualification': 'master', 'age': 32}\n"
     ]
    }
   ],
   "source": [
    "for record in employee_information.find({\"qualification\": {\"$in\" :['phd', 'master']}}):\n",
    "    print(record)"
   ]
  },
  {
   "cell_type": "markdown",
   "id": "a1348c3c-d13a-4864-afe0-5bae8d3d4df7",
   "metadata": {},
   "source": [
    "## AND & Lesser than Operator (and, lt)"
   ]
  },
  {
   "cell_type": "code",
   "execution_count": 20,
   "id": "b52455e3-c2e2-4396-ab52-d5950702e8a7",
   "metadata": {},
   "outputs": [
    {
     "name": "stdout",
     "output_type": "stream",
     "text": [
      "{'_id': ObjectId('681ef4837a21e98e20cbce50'), 'firstname': 'John ', 'lastname': 'Smith', 'department': 'Analytics', 'qualification': 'master', 'age': 30}\n",
      "{'_id': ObjectId('681ef4837a21e98e20cbce52'), 'firstname': 'Ram', 'lastname': 'Singh', 'department': 'Analytics', 'qualification': 'master', 'age': 32}\n"
     ]
    }
   ],
   "source": [
    "for record in employee_information.find({\"$and\" :[{\"qualification\":'master', \n",
    "                                                   \"age\": {\"$lt\": 40}}]}):\n",
    "    print(record)"
   ]
  },
  {
   "cell_type": "markdown",
   "id": "d20943d7-33eb-494f-a37f-4f1e24d129f6",
   "metadata": {},
   "source": [
    "## OR Operator"
   ]
  },
  {
   "cell_type": "code",
   "execution_count": 19,
   "id": "e67bab1d-1665-48a2-b38a-19959c10912e",
   "metadata": {},
   "outputs": [
    {
     "name": "stdout",
     "output_type": "stream",
     "text": [
      "{'_id': ObjectId('681ef4837a21e98e20cbce50'), 'firstname': 'John ', 'lastname': 'Smith', 'department': 'Analytics', 'qualification': 'master', 'age': 30}\n",
      "{'_id': ObjectId('681ef4837a21e98e20cbce51'), 'firstname': 'Manish', 'lastname': 'Sen', 'department': 'Analytics', 'qualification': 'phd', 'age': 34}\n",
      "{'_id': ObjectId('681ef4837a21e98e20cbce52'), 'firstname': 'Ram', 'lastname': 'Singh', 'department': 'Analytics', 'qualification': 'master', 'age': 32}\n"
     ]
    }
   ],
   "source": [
    "for record in employee_information.find({\"$or\": [{\"qualification\": \"phd\"}, \n",
    "                                                {\"age\" : {\"$lt\": 33}, \n",
    "                                                 \"qualification\": \"master\"}]}):\n",
    "    print(record)"
   ]
  },
  {
   "cell_type": "markdown",
   "id": "2527e7ca-a592-4228-872e-055f25f1bd0f",
   "metadata": {},
   "source": [
    "## Querying nested JSON objects"
   ]
  },
  {
   "cell_type": "code",
   "execution_count": 21,
   "id": "586b3786-b00d-4c22-b6da-4804406da497",
   "metadata": {},
   "outputs": [],
   "source": [
    "inventory = my_db.inventory"
   ]
  },
  {
   "cell_type": "code",
   "execution_count": 22,
   "id": "8df5eef4-a104-48cf-86a4-e881a77f0bc2",
   "metadata": {},
   "outputs": [],
   "source": [
    "inventory.insert_many([\n",
    "    {'item': \"journal\", 'qty': 25, 'size': {'h': 14, 'w': 21, 'uom': \"cm\"}, 'status': \"A\"},\n",
    "    {'item': \"notebook\", 'qty': 50, 'size': {'h': 8.5, 'w': 11, 'uom': \"in\"}, 'status': \"A\"},\n",
    "    {'item': \"paper\", 'qty': 100, 'size': {'h': 8.5, 'w': 11, 'uom': \"in\"}, 'status': \"D\"},\n",
    "    {'item': \"planner\", 'qty': 75, 'size': {'h': 22.85, 'w': 30, 'uom': \"cm\"}, 'status': \"D\"},\n",
    "    {'item': \"postcard\", 'qty': 45, 'size': {'h': 10, 'w': 15.25, 'uom': \"cm\"}, 'status': \"A\"}\n",
    "]);"
   ]
  },
  {
   "cell_type": "code",
   "execution_count": 24,
   "id": "02a56dc3-4fd8-477d-b42a-b3915be52426",
   "metadata": {},
   "outputs": [
    {
     "name": "stdout",
     "output_type": "stream",
     "text": [
      "{'_id': ObjectId('681ef6f07a21e98e20cbce53'), 'item': 'journal', 'qty': 25, 'size': {'h': 14, 'w': 21, 'uom': 'cm'}, 'status': 'A'}\n"
     ]
    }
   ],
   "source": [
    "for record in inventory.find({'size': {'h' : 14, \"w\": 21, \"uom\": \"cm\"}}):\n",
    "    print(record)"
   ]
  },
  {
   "cell_type": "code",
   "execution_count": null,
   "id": "d830fbd2-0b8c-43f8-a61f-36405943491a",
   "metadata": {},
   "outputs": [],
   "source": []
  }
 ],
 "metadata": {
  "kernelspec": {
   "display_name": "Python 3 (ipykernel)",
   "language": "python",
   "name": "python3"
  },
  "language_info": {
   "codemirror_mode": {
    "name": "ipython",
    "version": 3
   },
   "file_extension": ".py",
   "mimetype": "text/x-python",
   "name": "python",
   "nbconvert_exporter": "python",
   "pygments_lexer": "ipython3",
   "version": "3.11.7"
  }
 },
 "nbformat": 4,
 "nbformat_minor": 5
}
